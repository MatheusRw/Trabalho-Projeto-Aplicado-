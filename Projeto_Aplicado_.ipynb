{
  "nbformat": 4,
  "nbformat_minor": 0,
  "metadata": {
    "colab": {
      "provenance": []
    },
    "kernelspec": {
      "name": "python3",
      "display_name": "Python 3"
    },
    "language_info": {
      "name": "python"
    }
  },
  "cells": [
    {
      "cell_type": "code",
      "source": [
        "# Instalando o yahoo finance\n",
        "!pip install yfinance --upgrade --no-cache-dir\n",
        "\n",
        "!pip install requests\n",
        "\n",
        "\n"
      ],
      "metadata": {
        "colab": {
          "base_uri": "https://localhost:8080/"
        },
        "id": "vWH8SkjjN4Sm",
        "outputId": "dc3b104e-69e0-41df-f194-6a84183ba720"
      },
      "execution_count": 122,
      "outputs": [
        {
          "output_type": "stream",
          "name": "stdout",
          "text": [
            "Looking in indexes: https://pypi.org/simple, https://us-python.pkg.dev/colab-wheels/public/simple/\n",
            "Requirement already satisfied: yfinance in /usr/local/lib/python3.9/dist-packages (0.2.13)\n",
            "Requirement already satisfied: pandas>=1.3.0 in /usr/local/lib/python3.9/dist-packages (from yfinance) (1.4.4)\n",
            "Requirement already satisfied: beautifulsoup4>=4.11.1 in /usr/local/lib/python3.9/dist-packages (from yfinance) (4.11.2)\n",
            "Requirement already satisfied: html5lib>=1.1 in /usr/local/lib/python3.9/dist-packages (from yfinance) (1.1)\n",
            "Requirement already satisfied: appdirs>=1.4.4 in /usr/local/lib/python3.9/dist-packages (from yfinance) (1.4.4)\n",
            "Requirement already satisfied: cryptography>=3.3.2 in /usr/local/lib/python3.9/dist-packages (from yfinance) (39.0.2)\n",
            "Requirement already satisfied: pytz>=2022.5 in /usr/local/lib/python3.9/dist-packages (from yfinance) (2022.7.1)\n",
            "Requirement already satisfied: frozendict>=2.3.4 in /usr/local/lib/python3.9/dist-packages (from yfinance) (2.3.6)\n",
            "Requirement already satisfied: lxml>=4.9.1 in /usr/local/lib/python3.9/dist-packages (from yfinance) (4.9.2)\n",
            "Requirement already satisfied: numpy>=1.16.5 in /usr/local/lib/python3.9/dist-packages (from yfinance) (1.22.4)\n",
            "Requirement already satisfied: requests>=2.26 in /usr/local/lib/python3.9/dist-packages (from yfinance) (2.27.1)\n",
            "Requirement already satisfied: multitasking>=0.0.7 in /usr/local/lib/python3.9/dist-packages (from yfinance) (0.0.11)\n",
            "Requirement already satisfied: soupsieve>1.2 in /usr/local/lib/python3.9/dist-packages (from beautifulsoup4>=4.11.1->yfinance) (2.4)\n",
            "Requirement already satisfied: cffi>=1.12 in /usr/local/lib/python3.9/dist-packages (from cryptography>=3.3.2->yfinance) (1.15.1)\n",
            "Requirement already satisfied: six>=1.9 in /usr/local/lib/python3.9/dist-packages (from html5lib>=1.1->yfinance) (1.16.0)\n",
            "Requirement already satisfied: webencodings in /usr/local/lib/python3.9/dist-packages (from html5lib>=1.1->yfinance) (0.5.1)\n",
            "Requirement already satisfied: python-dateutil>=2.8.1 in /usr/local/lib/python3.9/dist-packages (from pandas>=1.3.0->yfinance) (2.8.2)\n",
            "Requirement already satisfied: idna<4,>=2.5 in /usr/local/lib/python3.9/dist-packages (from requests>=2.26->yfinance) (3.4)\n",
            "Requirement already satisfied: urllib3<1.27,>=1.21.1 in /usr/local/lib/python3.9/dist-packages (from requests>=2.26->yfinance) (1.26.15)\n",
            "Requirement already satisfied: charset-normalizer~=2.0.0 in /usr/local/lib/python3.9/dist-packages (from requests>=2.26->yfinance) (2.0.12)\n",
            "Requirement already satisfied: certifi>=2017.4.17 in /usr/local/lib/python3.9/dist-packages (from requests>=2.26->yfinance) (2022.12.7)\n",
            "Requirement already satisfied: pycparser in /usr/local/lib/python3.9/dist-packages (from cffi>=1.12->cryptography>=3.3.2->yfinance) (2.21)\n",
            "Looking in indexes: https://pypi.org/simple, https://us-python.pkg.dev/colab-wheels/public/simple/\n",
            "Requirement already satisfied: requests in /usr/local/lib/python3.9/dist-packages (2.27.1)\n",
            "Requirement already satisfied: urllib3<1.27,>=1.21.1 in /usr/local/lib/python3.9/dist-packages (from requests) (1.26.15)\n",
            "Requirement already satisfied: charset-normalizer~=2.0.0 in /usr/local/lib/python3.9/dist-packages (from requests) (2.0.12)\n",
            "Requirement already satisfied: idna<4,>=2.5 in /usr/local/lib/python3.9/dist-packages (from requests) (3.4)\n",
            "Requirement already satisfied: certifi>=2017.4.17 in /usr/local/lib/python3.9/dist-packages (from requests) (2022.12.7)\n"
          ]
        }
      ]
    },
    {
      "cell_type": "code",
      "source": [
        "\n",
        "\"\"\"# **Importação dos Pacotes**\"\"\"\n",
        "\n",
        "import pandas as pd\n",
        "import numpy as np\n",
        "import yfinance as yf #Instalando e importando a API no código\n",
        "import matplotlib.pyplot as plt\n",
        "from sklearn.metrics import mean_squared_error\n"
      ],
      "metadata": {
        "id": "icDICPxNNw06"
      },
      "execution_count": 123,
      "outputs": []
    },
    {
      "cell_type": "code",
      "source": [
        "\n",
        "import requests\n",
        "url = \"https://investnews.com.br/financas/veja-a-lista-completa-dos-bdrs-disponiveis-para-pessoas-fisicas-na-b3/\"\n",
        "r = requests.get(url)\n",
        "html = r.text\n",
        "df_nomes_tickers = pd.read_html(html, header=0)[0]\n",
        "df_nomes_tickers.tail(10)"
      ],
      "metadata": {
        "colab": {
          "base_uri": "https://localhost:8080/",
          "height": 363
        },
        "id": "43vpKcrfOBid",
        "outputId": "a35261ad-31be-4704-af76-fe81b5a01955"
      },
      "execution_count": 124,
      "outputs": [
        {
          "output_type": "execute_result",
          "data": {
            "text/plain": [
              "           EMPRESA  CÓDIGO                                   SETOR  \\\n",
              "698      COCA COLA  COCA34                           Refrigerantes   \n",
              "699        COLGATE  COLG34                       Produtos Pessoais   \n",
              "700     MASTERCARD  MSCD34             Financiamento ao Consumidor   \n",
              "701           NIKE  NIKE34                                Calçados   \n",
              "702         ORACLE  ORCL34                     Software aplicativo   \n",
              "703  RAYTHEON TECH  RYTT34                              Industrial   \n",
              "704   SCHLUMBERGER  SLBG34  Equipamentos e Serviços de Combustível   \n",
              "705        TIFFANY  TIFF34                               Joalheria   \n",
              "706     US BANCORP  USBC34                  Instituição Financeira   \n",
              "707         XP INC  XPBR31                              Financeiro   \n",
              "\n",
              "    PAÍS DE ORIGEM  \n",
              "698            EUA  \n",
              "699            EUA  \n",
              "700            EUA  \n",
              "701            EUA  \n",
              "702            EUA  \n",
              "703            EUA  \n",
              "704            EUA  \n",
              "705            EUA  \n",
              "706            EUA  \n",
              "707         Brasil  "
            ],
            "text/html": [
              "\n",
              "  <div id=\"df-f1bdcced-4453-429f-afc1-4a543c5861f1\">\n",
              "    <div class=\"colab-df-container\">\n",
              "      <div>\n",
              "<style scoped>\n",
              "    .dataframe tbody tr th:only-of-type {\n",
              "        vertical-align: middle;\n",
              "    }\n",
              "\n",
              "    .dataframe tbody tr th {\n",
              "        vertical-align: top;\n",
              "    }\n",
              "\n",
              "    .dataframe thead th {\n",
              "        text-align: right;\n",
              "    }\n",
              "</style>\n",
              "<table border=\"1\" class=\"dataframe\">\n",
              "  <thead>\n",
              "    <tr style=\"text-align: right;\">\n",
              "      <th></th>\n",
              "      <th>EMPRESA</th>\n",
              "      <th>CÓDIGO</th>\n",
              "      <th>SETOR</th>\n",
              "      <th>PAÍS DE ORIGEM</th>\n",
              "    </tr>\n",
              "  </thead>\n",
              "  <tbody>\n",
              "    <tr>\n",
              "      <th>698</th>\n",
              "      <td>COCA COLA</td>\n",
              "      <td>COCA34</td>\n",
              "      <td>Refrigerantes</td>\n",
              "      <td>EUA</td>\n",
              "    </tr>\n",
              "    <tr>\n",
              "      <th>699</th>\n",
              "      <td>COLGATE</td>\n",
              "      <td>COLG34</td>\n",
              "      <td>Produtos Pessoais</td>\n",
              "      <td>EUA</td>\n",
              "    </tr>\n",
              "    <tr>\n",
              "      <th>700</th>\n",
              "      <td>MASTERCARD</td>\n",
              "      <td>MSCD34</td>\n",
              "      <td>Financiamento ao Consumidor</td>\n",
              "      <td>EUA</td>\n",
              "    </tr>\n",
              "    <tr>\n",
              "      <th>701</th>\n",
              "      <td>NIKE</td>\n",
              "      <td>NIKE34</td>\n",
              "      <td>Calçados</td>\n",
              "      <td>EUA</td>\n",
              "    </tr>\n",
              "    <tr>\n",
              "      <th>702</th>\n",
              "      <td>ORACLE</td>\n",
              "      <td>ORCL34</td>\n",
              "      <td>Software aplicativo</td>\n",
              "      <td>EUA</td>\n",
              "    </tr>\n",
              "    <tr>\n",
              "      <th>703</th>\n",
              "      <td>RAYTHEON TECH</td>\n",
              "      <td>RYTT34</td>\n",
              "      <td>Industrial</td>\n",
              "      <td>EUA</td>\n",
              "    </tr>\n",
              "    <tr>\n",
              "      <th>704</th>\n",
              "      <td>SCHLUMBERGER</td>\n",
              "      <td>SLBG34</td>\n",
              "      <td>Equipamentos e Serviços de Combustível</td>\n",
              "      <td>EUA</td>\n",
              "    </tr>\n",
              "    <tr>\n",
              "      <th>705</th>\n",
              "      <td>TIFFANY</td>\n",
              "      <td>TIFF34</td>\n",
              "      <td>Joalheria</td>\n",
              "      <td>EUA</td>\n",
              "    </tr>\n",
              "    <tr>\n",
              "      <th>706</th>\n",
              "      <td>US BANCORP</td>\n",
              "      <td>USBC34</td>\n",
              "      <td>Instituição Financeira</td>\n",
              "      <td>EUA</td>\n",
              "    </tr>\n",
              "    <tr>\n",
              "      <th>707</th>\n",
              "      <td>XP INC</td>\n",
              "      <td>XPBR31</td>\n",
              "      <td>Financeiro</td>\n",
              "      <td>Brasil</td>\n",
              "    </tr>\n",
              "  </tbody>\n",
              "</table>\n",
              "</div>\n",
              "      <button class=\"colab-df-convert\" onclick=\"convertToInteractive('df-f1bdcced-4453-429f-afc1-4a543c5861f1')\"\n",
              "              title=\"Convert this dataframe to an interactive table.\"\n",
              "              style=\"display:none;\">\n",
              "        \n",
              "  <svg xmlns=\"http://www.w3.org/2000/svg\" height=\"24px\"viewBox=\"0 0 24 24\"\n",
              "       width=\"24px\">\n",
              "    <path d=\"M0 0h24v24H0V0z\" fill=\"none\"/>\n",
              "    <path d=\"M18.56 5.44l.94 2.06.94-2.06 2.06-.94-2.06-.94-.94-2.06-.94 2.06-2.06.94zm-11 1L8.5 8.5l.94-2.06 2.06-.94-2.06-.94L8.5 2.5l-.94 2.06-2.06.94zm10 10l.94 2.06.94-2.06 2.06-.94-2.06-.94-.94-2.06-.94 2.06-2.06.94z\"/><path d=\"M17.41 7.96l-1.37-1.37c-.4-.4-.92-.59-1.43-.59-.52 0-1.04.2-1.43.59L10.3 9.45l-7.72 7.72c-.78.78-.78 2.05 0 2.83L4 21.41c.39.39.9.59 1.41.59.51 0 1.02-.2 1.41-.59l7.78-7.78 2.81-2.81c.8-.78.8-2.07 0-2.86zM5.41 20L4 18.59l7.72-7.72 1.47 1.35L5.41 20z\"/>\n",
              "  </svg>\n",
              "      </button>\n",
              "      \n",
              "  <style>\n",
              "    .colab-df-container {\n",
              "      display:flex;\n",
              "      flex-wrap:wrap;\n",
              "      gap: 12px;\n",
              "    }\n",
              "\n",
              "    .colab-df-convert {\n",
              "      background-color: #E8F0FE;\n",
              "      border: none;\n",
              "      border-radius: 50%;\n",
              "      cursor: pointer;\n",
              "      display: none;\n",
              "      fill: #1967D2;\n",
              "      height: 32px;\n",
              "      padding: 0 0 0 0;\n",
              "      width: 32px;\n",
              "    }\n",
              "\n",
              "    .colab-df-convert:hover {\n",
              "      background-color: #E2EBFA;\n",
              "      box-shadow: 0px 1px 2px rgba(60, 64, 67, 0.3), 0px 1px 3px 1px rgba(60, 64, 67, 0.15);\n",
              "      fill: #174EA6;\n",
              "    }\n",
              "\n",
              "    [theme=dark] .colab-df-convert {\n",
              "      background-color: #3B4455;\n",
              "      fill: #D2E3FC;\n",
              "    }\n",
              "\n",
              "    [theme=dark] .colab-df-convert:hover {\n",
              "      background-color: #434B5C;\n",
              "      box-shadow: 0px 1px 3px 1px rgba(0, 0, 0, 0.15);\n",
              "      filter: drop-shadow(0px 1px 2px rgba(0, 0, 0, 0.3));\n",
              "      fill: #FFFFFF;\n",
              "    }\n",
              "  </style>\n",
              "\n",
              "      <script>\n",
              "        const buttonEl =\n",
              "          document.querySelector('#df-f1bdcced-4453-429f-afc1-4a543c5861f1 button.colab-df-convert');\n",
              "        buttonEl.style.display =\n",
              "          google.colab.kernel.accessAllowed ? 'block' : 'none';\n",
              "\n",
              "        async function convertToInteractive(key) {\n",
              "          const element = document.querySelector('#df-f1bdcced-4453-429f-afc1-4a543c5861f1');\n",
              "          const dataTable =\n",
              "            await google.colab.kernel.invokeFunction('convertToInteractive',\n",
              "                                                     [key], {});\n",
              "          if (!dataTable) return;\n",
              "\n",
              "          const docLinkHtml = 'Like what you see? Visit the ' +\n",
              "            '<a target=\"_blank\" href=https://colab.research.google.com/notebooks/data_table.ipynb>data table notebook</a>'\n",
              "            + ' to learn more about interactive tables.';\n",
              "          element.innerHTML = '';\n",
              "          dataTable['output_type'] = 'display_data';\n",
              "          await google.colab.output.renderOutput(dataTable, element);\n",
              "          const docLink = document.createElement('div');\n",
              "          docLink.innerHTML = docLinkHtml;\n",
              "          element.appendChild(docLink);\n",
              "        }\n",
              "      </script>\n",
              "    </div>\n",
              "  </div>\n",
              "  "
            ]
          },
          "metadata": {},
          "execution_count": 124
        }
      ]
    },
    {
      "cell_type": "code",
      "source": [
        "with pd.option_context('display.max_rows',10):\n",
        "  print(df_nomes_tickers)"
      ],
      "metadata": {
        "colab": {
          "base_uri": "https://localhost:8080/"
        },
        "id": "Z5qSwgrYOEhq",
        "outputId": "56f7114a-dba8-44d4-a7e5-774896780da7"
      },
      "execution_count": 125,
      "outputs": [
        {
          "output_type": "stream",
          "name": "stdout",
          "text": [
            "           EMPRESA  CÓDIGO                                   SETOR  \\\n",
            "0               3M  MMMC34                 Indústria diversificada   \n",
            "1         AB INBEV  ABUD34                                 Bebidas   \n",
            "2          ABB LTD  A1BB34                              Industrial   \n",
            "3           ABBOTT  ABTT34                           Farmacêuticos   \n",
            "4           ABBVIE  ABBV34          Medicamentos e Outros Produtos   \n",
            "..             ...     ...                                     ...   \n",
            "703  RAYTHEON TECH  RYTT34                              Industrial   \n",
            "704   SCHLUMBERGER  SLBG34  Equipamentos e Serviços de Combustível   \n",
            "705        TIFFANY  TIFF34                               Joalheria   \n",
            "706     US BANCORP  USBC34                  Instituição Financeira   \n",
            "707         XP INC  XPBR31                              Financeiro   \n",
            "\n",
            "    PAÍS DE ORIGEM  \n",
            "0              EUA  \n",
            "1          Bélgica  \n",
            "2      Switzerland  \n",
            "3              EUA  \n",
            "4              EUA  \n",
            "..             ...  \n",
            "703            EUA  \n",
            "704            EUA  \n",
            "705            EUA  \n",
            "706            EUA  \n",
            "707         Brasil  \n",
            "\n",
            "[708 rows x 4 columns]\n"
          ]
        }
      ]
    },
    {
      "cell_type": "code",
      "source": [
        "dados_series = yf.download([\"MMMC34.SA\"], start=\"2018-01-01\", end=\"2022-01-01\")"
      ],
      "metadata": {
        "colab": {
          "base_uri": "https://localhost:8080/"
        },
        "id": "qvCoGDiyOFob",
        "outputId": "5c0a1007-0cf3-43a6-8aa6-7634daf07ac2"
      },
      "execution_count": 126,
      "outputs": [
        {
          "output_type": "stream",
          "name": "stdout",
          "text": [
            "\r[*********************100%***********************]  1 of 1 completed\n"
          ]
        }
      ]
    },
    {
      "cell_type": "code",
      "source": [
        "\n",
        "\n",
        "#Selecionar apenas os dados referentes ao preço de fechamento\n",
        "df = dados_series.drop(['Open','High', 'Low', 'Adj Close', 'Volume'], axis=1)"
      ],
      "metadata": {
        "id": "1092t7KAOi6C"
      },
      "execution_count": 127,
      "outputs": []
    },
    {
      "cell_type": "code",
      "source": [
        "\n",
        "df.head()"
      ],
      "metadata": {
        "colab": {
          "base_uri": "https://localhost:8080/",
          "height": 237
        },
        "id": "xmZ5ZcPXOkex",
        "outputId": "d12cd1be-8eb0-4638-97de-d269be5884c9"
      },
      "execution_count": 128,
      "outputs": [
        {
          "output_type": "execute_result",
          "data": {
            "text/plain": [
              "                 Close\n",
              "Date                  \n",
              "2018-01-02  191.039993\n",
              "2018-01-03  191.100006\n",
              "2018-01-04  192.899994\n",
              "2018-01-05  193.199997\n",
              "2018-01-08  194.399994"
            ],
            "text/html": [
              "\n",
              "  <div id=\"df-08d333cf-8ccf-480b-9d26-6c9e47accfce\">\n",
              "    <div class=\"colab-df-container\">\n",
              "      <div>\n",
              "<style scoped>\n",
              "    .dataframe tbody tr th:only-of-type {\n",
              "        vertical-align: middle;\n",
              "    }\n",
              "\n",
              "    .dataframe tbody tr th {\n",
              "        vertical-align: top;\n",
              "    }\n",
              "\n",
              "    .dataframe thead th {\n",
              "        text-align: right;\n",
              "    }\n",
              "</style>\n",
              "<table border=\"1\" class=\"dataframe\">\n",
              "  <thead>\n",
              "    <tr style=\"text-align: right;\">\n",
              "      <th></th>\n",
              "      <th>Close</th>\n",
              "    </tr>\n",
              "    <tr>\n",
              "      <th>Date</th>\n",
              "      <th></th>\n",
              "    </tr>\n",
              "  </thead>\n",
              "  <tbody>\n",
              "    <tr>\n",
              "      <th>2018-01-02</th>\n",
              "      <td>191.039993</td>\n",
              "    </tr>\n",
              "    <tr>\n",
              "      <th>2018-01-03</th>\n",
              "      <td>191.100006</td>\n",
              "    </tr>\n",
              "    <tr>\n",
              "      <th>2018-01-04</th>\n",
              "      <td>192.899994</td>\n",
              "    </tr>\n",
              "    <tr>\n",
              "      <th>2018-01-05</th>\n",
              "      <td>193.199997</td>\n",
              "    </tr>\n",
              "    <tr>\n",
              "      <th>2018-01-08</th>\n",
              "      <td>194.399994</td>\n",
              "    </tr>\n",
              "  </tbody>\n",
              "</table>\n",
              "</div>\n",
              "      <button class=\"colab-df-convert\" onclick=\"convertToInteractive('df-08d333cf-8ccf-480b-9d26-6c9e47accfce')\"\n",
              "              title=\"Convert this dataframe to an interactive table.\"\n",
              "              style=\"display:none;\">\n",
              "        \n",
              "  <svg xmlns=\"http://www.w3.org/2000/svg\" height=\"24px\"viewBox=\"0 0 24 24\"\n",
              "       width=\"24px\">\n",
              "    <path d=\"M0 0h24v24H0V0z\" fill=\"none\"/>\n",
              "    <path d=\"M18.56 5.44l.94 2.06.94-2.06 2.06-.94-2.06-.94-.94-2.06-.94 2.06-2.06.94zm-11 1L8.5 8.5l.94-2.06 2.06-.94-2.06-.94L8.5 2.5l-.94 2.06-2.06.94zm10 10l.94 2.06.94-2.06 2.06-.94-2.06-.94-.94-2.06-.94 2.06-2.06.94z\"/><path d=\"M17.41 7.96l-1.37-1.37c-.4-.4-.92-.59-1.43-.59-.52 0-1.04.2-1.43.59L10.3 9.45l-7.72 7.72c-.78.78-.78 2.05 0 2.83L4 21.41c.39.39.9.59 1.41.59.51 0 1.02-.2 1.41-.59l7.78-7.78 2.81-2.81c.8-.78.8-2.07 0-2.86zM5.41 20L4 18.59l7.72-7.72 1.47 1.35L5.41 20z\"/>\n",
              "  </svg>\n",
              "      </button>\n",
              "      \n",
              "  <style>\n",
              "    .colab-df-container {\n",
              "      display:flex;\n",
              "      flex-wrap:wrap;\n",
              "      gap: 12px;\n",
              "    }\n",
              "\n",
              "    .colab-df-convert {\n",
              "      background-color: #E8F0FE;\n",
              "      border: none;\n",
              "      border-radius: 50%;\n",
              "      cursor: pointer;\n",
              "      display: none;\n",
              "      fill: #1967D2;\n",
              "      height: 32px;\n",
              "      padding: 0 0 0 0;\n",
              "      width: 32px;\n",
              "    }\n",
              "\n",
              "    .colab-df-convert:hover {\n",
              "      background-color: #E2EBFA;\n",
              "      box-shadow: 0px 1px 2px rgba(60, 64, 67, 0.3), 0px 1px 3px 1px rgba(60, 64, 67, 0.15);\n",
              "      fill: #174EA6;\n",
              "    }\n",
              "\n",
              "    [theme=dark] .colab-df-convert {\n",
              "      background-color: #3B4455;\n",
              "      fill: #D2E3FC;\n",
              "    }\n",
              "\n",
              "    [theme=dark] .colab-df-convert:hover {\n",
              "      background-color: #434B5C;\n",
              "      box-shadow: 0px 1px 3px 1px rgba(0, 0, 0, 0.15);\n",
              "      filter: drop-shadow(0px 1px 2px rgba(0, 0, 0, 0.3));\n",
              "      fill: #FFFFFF;\n",
              "    }\n",
              "  </style>\n",
              "\n",
              "      <script>\n",
              "        const buttonEl =\n",
              "          document.querySelector('#df-08d333cf-8ccf-480b-9d26-6c9e47accfce button.colab-df-convert');\n",
              "        buttonEl.style.display =\n",
              "          google.colab.kernel.accessAllowed ? 'block' : 'none';\n",
              "\n",
              "        async function convertToInteractive(key) {\n",
              "          const element = document.querySelector('#df-08d333cf-8ccf-480b-9d26-6c9e47accfce');\n",
              "          const dataTable =\n",
              "            await google.colab.kernel.invokeFunction('convertToInteractive',\n",
              "                                                     [key], {});\n",
              "          if (!dataTable) return;\n",
              "\n",
              "          const docLinkHtml = 'Like what you see? Visit the ' +\n",
              "            '<a target=\"_blank\" href=https://colab.research.google.com/notebooks/data_table.ipynb>data table notebook</a>'\n",
              "            + ' to learn more about interactive tables.';\n",
              "          element.innerHTML = '';\n",
              "          dataTable['output_type'] = 'display_data';\n",
              "          await google.colab.output.renderOutput(dataTable, element);\n",
              "          const docLink = document.createElement('div');\n",
              "          docLink.innerHTML = docLinkHtml;\n",
              "          element.appendChild(docLink);\n",
              "        }\n",
              "      </script>\n",
              "    </div>\n",
              "  </div>\n",
              "  "
            ]
          },
          "metadata": {},
          "execution_count": 128
        }
      ]
    },
    {
      "cell_type": "code",
      "source": [
        "\n",
        "df['Close']"
      ],
      "metadata": {
        "colab": {
          "base_uri": "https://localhost:8080/"
        },
        "id": "_MNSVFC5Om7Q",
        "outputId": "49e241f5-d53f-4d84-cf7c-0ac273743b83"
      },
      "execution_count": 129,
      "outputs": [
        {
          "output_type": "execute_result",
          "data": {
            "text/plain": [
              "Date\n",
              "2018-01-02    191.039993\n",
              "2018-01-03    191.100006\n",
              "2018-01-04    192.899994\n",
              "2018-01-05    193.199997\n",
              "2018-01-08    194.399994\n",
              "                 ...    \n",
              "2021-12-23    249.470001\n",
              "2021-12-27    248.509995\n",
              "2021-12-28    250.839996\n",
              "2021-12-29    255.399994\n",
              "2021-12-30    246.250000\n",
              "Name: Close, Length: 989, dtype: float64"
            ]
          },
          "metadata": {},
          "execution_count": 129
        }
      ]
    },
    {
      "cell_type": "code",
      "source": [
        "y=[]\n",
        "for a in df['Close']:\n",
        "  y.append(a)"
      ],
      "metadata": {
        "id": "4M51DI8OOr14"
      },
      "execution_count": 130,
      "outputs": []
    },
    {
      "cell_type": "code",
      "source": [
        "y"
      ],
      "metadata": {
        "colab": {
          "base_uri": "https://localhost:8080/"
        },
        "id": "pSAMyTmFPKpV",
        "outputId": "451b7c65-994f-4a17-fd34-17744e6be27f"
      },
      "execution_count": 131,
      "outputs": [
        {
          "output_type": "execute_result",
          "data": {
            "text/plain": [
              "[191.0399932861328,\n",
              " 191.10000610351562,\n",
              " 192.89999389648438,\n",
              " 193.1999969482422,\n",
              " 194.39999389648438,\n",
              " 194.39999389648438,\n",
              " 194.39999389648438,\n",
              " 195.1999969482422,\n",
              " 196.89999389648438,\n",
              " 196.89999389648438,\n",
              " 198.22999572753906,\n",
              " 198.64999389648438,\n",
              " 196.97000122070312,\n",
              " 197.52000427246094,\n",
              " 198.3000030517578,\n",
              " 198.3000030517578,\n",
              " 196.6999969482422,\n",
              " 196.6999969482422,\n",
              " 203.3000030517578,\n",
              " 205.0,\n",
              " 200.92999267578125,\n",
              " 201.07000732421875,\n",
              " 196.88999938964844,\n",
              " 197.88999938964844,\n",
              " 195.16000366210938,\n",
              " 186.92999267578125,\n",
              " 191.2899932861328,\n",
              " 187.52999877929688,\n",
              " 182.39999389648438,\n",
              " 187.6999969482422,\n",
              " 187.6999969482422,\n",
              " 187.6999969482422,\n",
              " 187.6999969482422,\n",
              " 191.75,\n",
              " 193.4600067138672,\n",
              " 192.82000732421875,\n",
              " 188.9499969482422,\n",
              " 196.61000061035156,\n",
              " 196.61000061035156,\n",
              " 192.63999938964844,\n",
              " 187.5399932861328,\n",
              " 188.16000366210938,\n",
              " 189.27999877929688,\n",
              " 189.27999877929688,\n",
              " 189.27999877929688,\n",
              " 191.86000061035156,\n",
              " 195.97000122070312,\n",
              " 195.97000122070312,\n",
              " 195.97000122070312,\n",
              " 191.35000610351562,\n",
              " 193.69000244140625,\n",
              " 193.69000244140625,\n",
              " 193.69000244140625,\n",
              " 192.80999755859375,\n",
              " 194.02000427246094,\n",
              " 186.02000427246094,\n",
              " 180.1199951171875,\n",
              " 181.9199981689453,\n",
              " 181.9199981689453,\n",
              " 182.22999572753906,\n",
              " 181.24000549316406,\n",
              " 175.16000366210938,\n",
              " 175.16000366210938,\n",
              " 180.75999450683594,\n",
              " 182.50999450683594,\n",
              " 179.02999877929688,\n",
              " 182.25,\n",
              " 182.25,\n",
              " 179.14999389648438,\n",
              " 183.9499969482422,\n",
              " 183.9499969482422,\n",
              " 183.9499969482422,\n",
              " 183.9499969482422,\n",
              " 183.9499969482422,\n",
              " 185.77000427246094,\n",
              " 185.0500030517578,\n",
              " 185.0500030517578,\n",
              " 174.82000732421875,\n",
              " 173.22000122070312,\n",
              " 173.22000122070312,\n",
              " 170.11000061035156,\n",
              " 170.11000061035156,\n",
              " 174.7899932861328,\n",
              " 172.63999938964844,\n",
              " 172.63999938964844,\n",
              " 178.3300018310547,\n",
              " 179.3300018310547,\n",
              " 182.9499969482422,\n",
              " 182.47000122070312,\n",
              " 182.47000122070312,\n",
              " 187.24000549316406,\n",
              " 187.24000549316406,\n",
              " 187.24000549316406,\n",
              " 187.24000549316406,\n",
              " 187.77000427246094,\n",
              " 187.77000427246094,\n",
              " 181.74000549316406,\n",
              " 181.0,\n",
              " 181.07000732421875,\n",
              " 183.47000122070312,\n",
              " 183.47000122070312,\n",
              " 183.47000122070312,\n",
              " 185.60000610351562,\n",
              " 187.35000610351562,\n",
              " 188.38999938964844,\n",
              " 190.0,\n",
              " 193.8300018310547,\n",
              " 200.10000610351562,\n",
              " 191.75999450683594,\n",
              " 192.35000610351562,\n",
              " 191.0399932861328,\n",
              " 191.89999389648438,\n",
              " 194.3800048828125,\n",
              " 189.88999938964844,\n",
              " 191.52000427246094,\n",
              " 187.50999450683594,\n",
              " 186.25999450683594,\n",
              " 186.0,\n",
              " 185.88999938964844,\n",
              " 183.57000732421875,\n",
              " 186.6300048828125,\n",
              " 186.6300048828125,\n",
              " 195.0,\n",
              " 191.4600067138672,\n",
              " 191.4600067138672,\n",
              " 191.4600067138672,\n",
              " 191.4600067138672,\n",
              " 191.4600067138672,\n",
              " 191.4600067138672,\n",
              " 192.27999877929688,\n",
              " 193.1699981689453,\n",
              " 195.85000610351562,\n",
              " 195.85000610351562,\n",
              " 194.89999389648438,\n",
              " 194.89999389648438,\n",
              " 194.6699981689453,\n",
              " 195.67999267578125,\n",
              " 191.3300018310547,\n",
              " 188.72999572753906,\n",
              " 186.07000732421875,\n",
              " 188.92999267578125,\n",
              " 194.2100067138672,\n",
              " 194.2100067138672,\n",
              " 191.67999267578125,\n",
              " 198.69000244140625,\n",
              " 195.49000549316406,\n",
              " 193.60000610351562,\n",
              " 192.83999633789062,\n",
              " 193.1300048828125,\n",
              " 196.13999938964844,\n",
              " 195.82000732421875,\n",
              " 196.1199951171875,\n",
              " 195.6300048828125,\n",
              " 195.30999755859375,\n",
              " 195.7899932861328,\n",
              " 196.02000427246094,\n",
              " 196.72999572753906,\n",
              " 199.94000244140625,\n",
              " 203.25999450683594,\n",
              " 203.25999450683594,\n",
              " 203.25999450683594,\n",
              " 210.75,\n",
              " 212.88999938964844,\n",
              " 212.60000610351562,\n",
              " 219.30999755859375,\n",
              " 222.55999755859375,\n",
              " 222.97999572753906,\n",
              " 218.64999389648438,\n",
              " 218.64999389648438,\n",
              " 218.63999938964844,\n",
              " 221.3000030517578,\n",
              " 224.2899932861328,\n",
              " 220.08999633789062,\n",
              " 220.0,\n",
              " 220.0,\n",
              " 220.27999877929688,\n",
              " 218.55999755859375,\n",
              " 215.6999969482422,\n",
              " 220.0500030517578,\n",
              " 222.49000549316406,\n",
              " 220.61000061035156,\n",
              " 218.2100067138672,\n",
              " 219.4499969482422,\n",
              " 215.3300018310547,\n",
              " 214.74000549316406,\n",
              " 213.1699981689453,\n",
              " 213.3300018310547,\n",
              " 214.99000549316406,\n",
              " 210.89999389648438,\n",
              " 211.92999267578125,\n",
              " 207.1999969482422,\n",
              " 205.0,\n",
              " 197.3699951171875,\n",
              " 195.47000122070312,\n",
              " 191.2100067138672,\n",
              " 188.3300018310547,\n",
              " 188.3800048828125,\n",
              " 188.22999572753906,\n",
              " 187.3699951171875,\n",
              " 185.3000030517578,\n",
              " 184.57000732421875,\n",
              " 184.57000732421875,\n",
              " 181.4199981689453,\n",
              " 181.4199981689453,\n",
              " 181.4199981689453,\n",
              " 170.30999755859375,\n",
              " 171.82000732421875,\n",
              " 174.24000549316406,\n",
              " 177.86000061035156,\n",
              " 175.75999450683594,\n",
              " 180.32000732421875,\n",
              " 182.1199951171875,\n",
              " 185.72999572753906,\n",
              " 190.6300048828125,\n",
              " 186.60000610351562,\n",
              " 188.36000061035156,\n",
              " 190.19000244140625,\n",
              " 190.19000244140625,\n",
              " 192.9499969482422,\n",
              " 192.9499969482422,\n",
              " 192.9499969482422,\n",
              " 192.9499969482422,\n",
              " 190.80999755859375,\n",
              " 190.80999755859375,\n",
              " 190.80999755859375,\n",
              " 195.4499969482422,\n",
              " 195.4499969482422,\n",
              " 198.4600067138672,\n",
              " 198.4600067138672,\n",
              " 196.6300048828125,\n",
              " 196.6300048828125,\n",
              " 194.64999389648438,\n",
              " 193.25,\n",
              " 193.25,\n",
              " 194.1300048828125,\n",
              " 194.3000030517578,\n",
              " 194.02999877929688,\n",
              " 196.02000427246094,\n",
              " 196.02000427246094,\n",
              " 196.02000427246094,\n",
              " 196.02000427246094,\n",
              " 182.9499969482422,\n",
              " 182.0399932861328,\n",
              " 177.8300018310547,\n",
              " 179.47000122070312,\n",
              " 185.0,\n",
              " 181.61000061035156,\n",
              " 181.61000061035156,\n",
              " 181.61000061035156,\n",
              " 181.61000061035156,\n",
              " 178.47000122070312,\n",
              " 178.47000122070312,\n",
              " 178.47000122070312,\n",
              " 177.35000610351562,\n",
              " 177.47000122070312,\n",
              " 177.47000122070312,\n",
              " 176.85000610351562,\n",
              " 177.38999938964844,\n",
              " 183.24000549316406,\n",
              " 183.24000549316406,\n",
              " 181.57000732421875,\n",
              " 181.57000732421875,\n",
              " 181.3000030517578,\n",
              " 181.3000030517578,\n",
              " 182.94000244140625,\n",
              " 182.61000061035156,\n",
              " 183.1199951171875,\n",
              " 183.1699981689453,\n",
              " 182.0,\n",
              " 182.0,\n",
              " 187.33999633789062,\n",
              " 187.33999633789062,\n",
              " 187.33999633789062,\n",
              " 186.86000061035156,\n",
              " 186.86000061035156,\n",
              " 186.86000061035156,\n",
              " 186.86000061035156,\n",
              " 192.82000732421875,\n",
              " 192.82000732421875,\n",
              " 192.8000030517578,\n",
              " 192.8000030517578,\n",
              " 194.44000244140625,\n",
              " 194.44000244140625,\n",
              " 194.44000244140625,\n",
              " 197.3000030517578,\n",
              " 194.60000610351562,\n",
              " 194.60000610351562,\n",
              " 196.4499969482422,\n",
              " 195.57000732421875,\n",
              " 194.5800018310547,\n",
              " 194.5800018310547,\n",
              " 198.10000610351562,\n",
              " 198.10000610351562,\n",
              " 197.0,\n",
              " 198.6199951171875,\n",
              " 198.6199951171875,\n",
              " 197.8000030517578,\n",
              " 197.8000030517578,\n",
              " 196.0,\n",
              " 199.57000732421875,\n",
              " 202.97000122070312,\n",
              " 202.97000122070312,\n",
              " 198.47000122070312,\n",
              " 203.27000427246094,\n",
              " 203.1699981689453,\n",
              " 203.1699981689453,\n",
              " 203.1699981689453,\n",
              " 202.24000549316406,\n",
              " 202.24000549316406,\n",
              " 206.4600067138672,\n",
              " 208.27999877929688,\n",
              " 207.0399932861328,\n",
              " 207.0399932861328,\n",
              " 202.66000366210938,\n",
              " 205.2100067138672,\n",
              " 205.2100067138672,\n",
              " 205.2100067138672,\n",
              " 205.2100067138672,\n",
              " 205.2100067138672,\n",
              " 205.2100067138672,\n",
              " 205.2100067138672,\n",
              " 215.32000732421875,\n",
              " 215.32000732421875,\n",
              " 189.30999755859375,\n",
              " 188.13999938964844,\n",
              " 187.8000030517578,\n",
              " 187.99000549316406,\n",
              " 182.44000244140625,\n",
              " 182.44000244140625,\n",
              " 180.8000030517578,\n",
              " 177.77999877929688,\n",
              " 177.77999877929688,\n",
              " 173.67999267578125,\n",
              " 175.61000061035156,\n",
              " 175.61000061035156,\n",
              " 176.67999267578125,\n",
              " 175.00999450683594,\n",
              " 173.55999755859375,\n",
              " 175.77000427246094,\n",
              " 170.47000122070312,\n",
              " 170.47000122070312,\n",
              " 170.47000122070312,\n",
              " 170.47000122070312,\n",
              " 170.47000122070312,\n",
              " 170.47000122070312,\n",
              " 164.99000549316406,\n",
              " 160.3000030517578,\n",
              " 159.97999572753906,\n",
              " 159.97999572753906,\n",
              " 155.19000244140625,\n",
              " 155.19000244140625,\n",
              " 159.3699951171875,\n",
              " 159.3699951171875,\n",
              " 159.99000549316406,\n",
              " 164.3000030517578,\n",
              " 162.1300048828125,\n",
              " 162.1300048828125,\n",
              " 162.35000610351562,\n",
              " 163.25999450683594,\n",
              " 163.25999450683594,\n",
              " 164.13999938964844,\n",
              " 164.13999938964844,\n",
              " 164.13999938964844,\n",
              " 166.7899932861328,\n",
              " 166.7899932861328,\n",
              " 164.94000244140625,\n",
              " 164.94000244140625,\n",
              " 164.94000244140625,\n",
              " 167.72999572753906,\n",
              " 167.5800018310547,\n",
              " 167.5800018310547,\n",
              " 167.5800018310547,\n",
              " 163.6300048828125,\n",
              " 161.27000427246094,\n",
              " 155.8000030517578,\n",
              " 159.4199981689453,\n",
              " 163.0800018310547,\n",
              " 163.38999938964844,\n",
              " 166.2100067138672,\n",
              " 163.89999389648438,\n",
              " 163.89999389648438,\n",
              " 163.89999389648438,\n",
              " 163.2100067138672,\n",
              " 167.61000061035156,\n",
              " 167.61000061035156,\n",
              " 167.61000061035156,\n",
              " 164.2100067138672,\n",
              " 167.2100067138672,\n",
              " 167.2100067138672,\n",
              " 167.2100067138672,\n",
              " 166.1999969482422,\n",
              " 166.1999969482422,\n",
              " 163.39999389648438,\n",
              " 162.10000610351562,\n",
              " 158.85000610351562,\n",
              " 161.02999877929688,\n",
              " 161.02999877929688,\n",
              " 163.9199981689453,\n",
              " 162.49000549316406,\n",
              " 160.64999389648438,\n",
              " 156.72000122070312,\n",
              " 160.69000244140625,\n",
              " 160.69000244140625,\n",
              " 163.0,\n",
              " 163.05999755859375,\n",
              " 163.42999267578125,\n",
              " 160.9499969482422,\n",
              " 161.8699951171875,\n",
              " 162.39999389648438,\n",
              " 162.39999389648438,\n",
              " 162.39999389648438,\n",
              " 166.02000427246094,\n",
              " 166.02000427246094,\n",
              " 165.60000610351562,\n",
              " 164.35000610351562,\n",
              " 167.97000122070312,\n",
              " 167.97000122070312,\n",
              " 170.1999969482422,\n",
              " 171.69000244140625,\n",
              " 171.69000244140625,\n",
              " 171.69000244140625,\n",
              " 171.69000244140625,\n",
              " 171.69000244140625,\n",
              " 171.42999267578125,\n",
              " 170.69000244140625,\n",
              " 170.69000244140625,\n",
              " 170.69000244140625,\n",
              " 172.08999633789062,\n",
              " 172.08999633789062,\n",
              " 170.8800048828125,\n",
              " 170.8800048828125,\n",
              " 171.0800018310547,\n",
              " 170.3800048828125,\n",
              " 165.8699951171875,\n",
              " 165.8699951171875,\n",
              " 158.52999877929688,\n",
              " 158.52999877929688,\n",
              " 158.75,\n",
              " 154.85000610351562,\n",
              " 155.9199981689453,\n",
              " 155.9199981689453,\n",
              " 162.36000061035156,\n",
              " 164.61000061035156,\n",
              " 170.14999389648438,\n",
              " 168.63999938964844,\n",
              " 170.1699981689453,\n",
              " 170.1699981689453,\n",
              " 170.1699981689453,\n",
              " 170.38999938964844,\n",
              " 170.38999938964844,\n",
              " 164.55999755859375,\n",
              " 166.92999267578125,\n",
              " 166.92999267578125,\n",
              " 166.92999267578125,\n",
              " 168.24000549316406,\n",
              " 165.7100067138672,\n",
              " 168.89999389648438,\n",
              " 174.13999938964844,\n",
              " 174.13999938964844,\n",
              " 174.13999938964844,\n",
              " 174.13999938964844,\n",
              " 180.0,\n",
              " 175.4499969482422,\n",
              " 175.4499969482422,\n",
              " 175.4499969482422,\n",
              " 179.6699981689453,\n",
              " 178.77000427246094,\n",
              " 178.77000427246094,\n",
              " 173.82000732421875,\n",
              " 173.82000732421875,\n",
              " 178.10000610351562,\n",
              " 178.10000610351562,\n",
              " 182.25999450683594,\n",
              " 182.25999450683594,\n",
              " 179.99000549316406,\n",
              " 178.07000732421875,\n",
              " 173.80999755859375,\n",
              " 177.5,\n",
              " 177.5,\n",
              " 177.5,\n",
              " 176.86000061035156,\n",
              " 174.3800048828125,\n",
              " 173.19000244140625,\n",
              " 171.89999389648438,\n",
              " 171.89999389648438,\n",
              " 171.42999267578125,\n",
              " 173.5500030517578,\n",
              " 172.5,\n",
              " 174.63999938964844,\n",
              " 174.63999938964844,\n",
              " 181.6999969482422,\n",
              " 179.32000732421875,\n",
              " 180.0399932861328,\n",
              " 180.0399932861328,\n",
              " 180.0399932861328,\n",
              " 182.77999877929688,\n",
              " 181.2100067138672,\n",
              " 180.14999389648438,\n",
              " 183.7899932861328,\n",
              " 185.0,\n",
              " 185.61000061035156,\n",
              " 185.61000061035156,\n",
              " 188.14999389648438,\n",
              " 188.6699981689453,\n",
              " 189.11000061035156,\n",
              " 189.11000061035156,\n",
              " 189.11000061035156,\n",
              " 188.89999389648438,\n",
              " 187.24000549316406,\n",
              " 185.67999267578125,\n",
              " 185.99000549316406,\n",
              " 185.99000549316406,\n",
              " 174.5399932861328,\n",
              " 171.91000366210938,\n",
              " 171.91000366210938,\n",
              " 170.8000030517578,\n",
              " 167.5,\n",
              " 168.44000244140625,\n",
              " 171.39999389648438,\n",
              " 171.39999389648438,\n",
              " 173.8000030517578,\n",
              " 173.3000030517578,\n",
              " 173.3000030517578,\n",
              " 178.13999938964844,\n",
              " 173.97999572753906,\n",
              " 173.97999572753906,\n",
              " 173.97999572753906,\n",
              " 173.72000122070312,\n",
              " 174.75999450683594,\n",
              " 175.4199981689453,\n",
              " 172.92999267578125,\n",
              " 166.1199951171875,\n",
              " 171.3699951171875,\n",
              " 164.8000030517578,\n",
              " 171.1199951171875,\n",
              " 165.41000366210938,\n",
              " 173.9600067138672,\n",
              " 176.33999633789062,\n",
              " 175.19000244140625,\n",
              " 171.1999969482422,\n",
              " 174.85000610351562,\n",
              " 173.97000122070312,\n",
              " 162.88999938964844,\n",
              " 155.8000030517578,\n",
              " 166.88999938964844,\n",
              " 166.88999938964844,\n",
              " 174.11000061035156,\n",
              " 175.67999267578125,\n",
              " 175.67999267578125,\n",
              " 149.52000427246094,\n",
              " 163.8000030517578,\n",
              " 163.8000030517578,\n",
              " 166.35000610351562,\n",
              " 166.35000610351562,\n",
              " 177.0,\n",
              " 178.6999969482422,\n",
              " 173.9199981689453,\n",
              " 177.58999633789062,\n",
              " 177.0,\n",
              " 184.39999389648438,\n",
              " 189.36000061035156,\n",
              " 188.6999969482422,\n",
              " 188.6999969482422,\n",
              " 188.6999969482422,\n",
              " 194.91000366210938,\n",
              " 190.94000244140625,\n",
              " 190.94000244140625,\n",
              " 190.94000244140625,\n",
              " 191.6699981689453,\n",
              " 191.60000610351562,\n",
              " 199.1999969482422,\n",
              " 206.60000610351562,\n",
              " 219.64999389648438,\n",
              " 223.00999450683594,\n",
              " 223.00999450683594,\n",
              " 208.74000549316406,\n",
              " 206.0800018310547,\n",
              " 207.33999633789062,\n",
              " 207.33999633789062,\n",
              " 213.0,\n",
              " 213.0,\n",
              " 214.05999755859375,\n",
              " 210.02999877929688,\n",
              " 201.42999267578125,\n",
              " 196.5,\n",
              " 196.5,\n",
              " 210.60000610351562,\n",
              " 217.19000244140625,\n",
              " 217.19000244140625,\n",
              " 206.0,\n",
              " 206.0,\n",
              " 206.0,\n",
              " 204.44000244140625,\n",
              " 206.72999572753906,\n",
              " 210.30999755859375,\n",
              " 208.8000030517578,\n",
              " 209.39999389648438,\n",
              " 205.49000549316406,\n",
              " 200.41000366210938,\n",
              " 200.41000366210938,\n",
              " 207.88999938964844,\n",
              " 207.88999938964844,\n",
              " 205.07000732421875,\n",
              " 203.6999969482422,\n",
              " 194.41000366210938,\n",
              " 201.64999389648438,\n",
              " 208.22000122070312,\n",
              " 208.22000122070312,\n",
              " 208.22000122070312,\n",
              " 208.22000122070312,\n",
              " 206.6300048828125,\n",
              " 206.6300048828125,\n",
              " 203.47000122070312,\n",
              " 203.47000122070312,\n",
              " 203.47000122070312,\n",
              " 210.52000427246094,\n",
              " 210.97999572753906,\n",
              " 210.97999572753906,\n",
              " 212.39999389648438,\n",
              " 212.39999389648438,\n",
              " 211.16000366210938,\n",
              " 209.38999938964844,\n",
              " 209.38999938964844,\n",
              " 204.10000610351562,\n",
              " 204.10000610351562,\n",
              " 210.0,\n",
              " 211.1999969482422,\n",
              " 211.1999969482422,\n",
              " 211.1999969482422,\n",
              " 211.1999969482422,\n",
              " 209.74000549316406,\n",
              " 205.0,\n",
              " 205.0,\n",
              " 206.83999633789062,\n",
              " 207.0,\n",
              " 210.4199981689453,\n",
              " 200.5,\n",
              " 200.41000366210938,\n",
              " 196.5500030517578,\n",
              " 195.86000061035156,\n",
              " 201.0,\n",
              " 199.22000122070312,\n",
              " 204.97999572753906,\n",
              " 204.97999572753906,\n",
              " 213.3000030517578,\n",
              " 219.7100067138672,\n",
              " 221.64999389648438,\n",
              " 224.77999877929688,\n",
              " 224.39999389648438,\n",
              " 225.89999389648438,\n",
              " 227.0,\n",
              " 225.2100067138672,\n",
              " 227.39999389648438,\n",
              " 228.0,\n",
              " 228.02999877929688,\n",
              " 228.02999877929688,\n",
              " 226.07000732421875,\n",
              " 231.24000549316406,\n",
              " 231.24000549316406,\n",
              " 224.99000549316406,\n",
              " 223.13999938964844,\n",
              " 220.0,\n",
              " 224.08999633789062,\n",
              " 218.36000061035156,\n",
              " 222.58999633789062,\n",
              " 219.47000122070312,\n",
              " 221.08999633789062,\n",
              " 218.07000732421875,\n",
              " 221.5500030517578,\n",
              " 222.4499969482422,\n",
              " 221.10000610351562,\n",
              " 223.00999450683594,\n",
              " 225.0,\n",
              " 225.0,\n",
              " 218.0399932861328,\n",
              " 218.0399932861328,\n",
              " 225.58999633789062,\n",
              " 224.72000122070312,\n",
              " 223.94000244140625,\n",
              " 229.1199951171875,\n",
              " 227.08999633789062,\n",
              " 224.3699951171875,\n",
              " 225.25,\n",
              " 226.85000610351562,\n",
              " 227.10000610351562,\n",
              " 226.25,\n",
              " 233.85000610351562,\n",
              " 235.0,\n",
              " 234.89999389648438,\n",
              " 233.3000030517578,\n",
              " 235.27999877929688,\n",
              " 236.80999755859375,\n",
              " 242.0,\n",
              " 236.89999389648438,\n",
              " 240.6999969482422,\n",
              " 239.19000244140625,\n",
              " 239.52000427246094,\n",
              " 239.19000244140625,\n",
              " 232.72000122070312,\n",
              " 229.0,\n",
              " 228.39999389648438,\n",
              " 228.58999633789062,\n",
              " 227.82000732421875,\n",
              " 239.42999267578125,\n",
              " 228.19000244140625,\n",
              " 226.5,\n",
              " 219.75999450683594,\n",
              " 222.0,\n",
              " 227.91000366210938,\n",
              " 229.5,\n",
              " 227.8000030517578,\n",
              " 232.6999969482422,\n",
              " 235.60000610351562,\n",
              " 232.0,\n",
              " 231.5,\n",
              " 228.9199981689453,\n",
              " 236.42999267578125,\n",
              " 237.22000122070312,\n",
              " 234.89999389648438,\n",
              " 237.72000122070312,\n",
              " 236.10000610351562,\n",
              " 232.5,\n",
              " 223.5800018310547,\n",
              " 225.27000427246094,\n",
              " 221.83999633789062,\n",
              " 220.8000030517578,\n",
              " 218.08999633789062,\n",
              " 220.5,\n",
              " 226.41000366210938,\n",
              " 217.10000610351562,\n",
              " 220.94000244140625,\n",
              " 222.77999877929688,\n",
              " 221.7899932861328,\n",
              " 223.89999389648438,\n",
              " 224.0,\n",
              " 223.85000610351562,\n",
              " 225.52000427246094,\n",
              " 226.85000610351562,\n",
              " 227.6699981689453,\n",
              " 229.0,\n",
              " 225.0,\n",
              " 226.3000030517578,\n",
              " 225.91000366210938,\n",
              " 226.82000732421875,\n",
              " 231.3000030517578,\n",
              " 229.8800048828125,\n",
              " 225.99000549316406,\n",
              " 227.6999969482422,\n",
              " 222.32000732421875,\n",
              " 220.0,\n",
              " 216.64999389648438,\n",
              " 219.4499969482422,\n",
              " 221.24000549316406,\n",
              " 226.58999633789062,\n",
              " 225.16000366210938,\n",
              " 228.41000366210938,\n",
              " 231.8800048828125,\n",
              " 235.58999633789062,\n",
              " 251.0,\n",
              " 250.0,\n",
              " 241.9499969482422,\n",
              " 238.6699981689453,\n",
              " 235.64999389648438,\n",
              " 237.58999633789062,\n",
              " 240.91000366210938,\n",
              " 240.00999450683594,\n",
              " 241.4199981689453,\n",
              " 244.0,\n",
              " 245.8000030517578,\n",
              " 239.1999969482422,\n",
              " 239.0,\n",
              " 240.60000610351562,\n",
              " 243.35000610351562,\n",
              " 238.60000610351562,\n",
              " 240.49000549316406,\n",
              " 240.60000610351562,\n",
              " 240.1999969482422,\n",
              " 245.60000610351562,\n",
              " 244.25999450683594,\n",
              " 249.0,\n",
              " 251.0,\n",
              " 250.0,\n",
              " 247.39999389648438,\n",
              " 258.0,\n",
              " 265.79998779296875,\n",
              " 264.0,\n",
              " 260.6000061035156,\n",
              " 256.0,\n",
              " 257.3999938964844,\n",
              " 266.3999938964844,\n",
              " 263.20001220703125,\n",
              " 263.79998779296875,\n",
              " 266.7900085449219,\n",
              " 261.20001220703125,\n",
              " 261.57000732421875,\n",
              " 259.20001220703125,\n",
              " 270.6000061035156,\n",
              " 275.0,\n",
              " 279.79998779296875,\n",
              " 284.57000732421875,\n",
              " 281.20001220703125,\n",
              " 272.3699951171875,\n",
              " 275.19000244140625,\n",
              " 276.1700134277344,\n",
              " 272.4200134277344,\n",
              " 275.0,\n",
              " 273.1499938964844,\n",
              " 280.3900146484375,\n",
              " 283.2900085449219,\n",
              " 281.79998779296875,\n",
              " 280.239990234375,\n",
              " 277.989990234375,\n",
              " 277.80999755859375,\n",
              " 276.3500061035156,\n",
              " 274.9800109863281,\n",
              " 273.8800048828125,\n",
              " 279.3699951171875,\n",
              " 273.20001220703125,\n",
              " 266.20001220703125,\n",
              " 263.1600036621094,\n",
              " 265.0,\n",
              " 268.79998779296875,\n",
              " 270.3999938964844,\n",
              " 269.29998779296875,\n",
              " 271.0,\n",
              " 264.79998779296875,\n",
              " 265.989990234375,\n",
              " 270.6000061035156,\n",
              " 265.8500061035156,\n",
              " 264.6499938964844,\n",
              " 270.6000061035156,\n",
              " 268.5,\n",
              " 270.7300109863281,\n",
              " 266.9800109863281,\n",
              " 269.8999938964844,\n",
              " 266.67999267578125,\n",
              " 269.75,\n",
              " 270.7900085449219,\n",
              " 269.45001220703125,\n",
              " 267.57000732421875,\n",
              " 267.1600036621094,\n",
              " 265.6700134277344,\n",
              " 267.1600036621094,\n",
              " 261.8500061035156,\n",
              " 258.5,\n",
              " 259.7300109863281,\n",
              " 257.9200134277344,\n",
              " 255.85000610351562,\n",
              " 257.1499938964844,\n",
              " 258.0799865722656,\n",
              " 259.7300109863281,\n",
              " 254.80999755859375,\n",
              " 253.17999267578125,\n",
              " 249.0,\n",
              " 245.72999572753906,\n",
              " 243.61000061035156,\n",
              " 245.55999755859375,\n",
              " 243.36000061035156,\n",
              " 239.52999877929688,\n",
              " 237.35000610351562,\n",
              " 240.82000732421875,\n",
              " 242.0,\n",
              " 242.38999938964844,\n",
              " 247.19000244140625,\n",
              " 251.25,\n",
              " 253.14999389648438,\n",
              " 255.0,\n",
              " 257.0400085449219,\n",
              " 261.04998779296875,\n",
              " 260.0,\n",
              " 259.0199890136719,\n",
              " 258.42999267578125,\n",
              " 257.1600036621094,\n",
              " 259.5199890136719,\n",
              " 255.05999755859375,\n",
              " 257.989990234375,\n",
              " 261.8500061035156,\n",
              " 264.6600036621094,\n",
              " 259.95001220703125,\n",
              " 262.07000732421875,\n",
              " 261.6600036621094,\n",
              " 259.2099914550781,\n",
              " 254.30999755859375,\n",
              " 252.5,\n",
              " 258.0,\n",
              " 255.83999633789062,\n",
              " 261.29998779296875,\n",
              " 256.20001220703125,\n",
              " 257.04998779296875,\n",
              " 259.79998779296875,\n",
              " 259.19000244140625,\n",
              " 259.1400146484375,\n",
              " 262.3999938964844,\n",
              " 262.8699951171875,\n",
              " 263.3299865722656,\n",
              " 266.5,\n",
              " 262.44000244140625,\n",
              " 264.25,\n",
              " 268.5799865722656,\n",
              " 261.0,\n",
              " 262.3500061035156,\n",
              " 255.85000610351562,\n",
              " 253.60000610351562,\n",
              " 256.5,\n",
              " 253.4199981689453,\n",
              " 254.7899932861328,\n",
              " 251.97999572753906,\n",
              " 250.0500030517578,\n",
              " 251.80999755859375,\n",
              " 252.66000366210938,\n",
              " 253.72000122070312,\n",
              " 250.60000610351562,\n",
              " 243.74000549316406,\n",
              " 242.99000549316406,\n",
              " 241.0,\n",
              " 240.24000549316406,\n",
              " 241.39999389648438,\n",
              " 241.27999877929688,\n",
              " 240.47000122070312,\n",
              " 241.16000366210938,\n",
              " 236.55999755859375,\n",
              " 238.3000030517578,\n",
              " 241.6699981689453,\n",
              " 241.89999389648438,\n",
              " 244.32000732421875,\n",
              " 244.9499969482422,\n",
              " 245.75999450683594,\n",
              " 239.89999389648438,\n",
              " 237.2899932861328,\n",
              " 240.47999572753906,\n",
              " 243.6999969482422,\n",
              " 244.1999969482422,\n",
              " 244.7899932861328,\n",
              " 244.77000427246094,\n",
              " 244.55999755859375,\n",
              " 244.32000732421875,\n",
              " 248.6999969482422,\n",
              " 248.25,\n",
              " 251.0,\n",
              " 255.5,\n",
              " 253.24000549316406,\n",
              " 254.0,\n",
              " 255.83999633789062,\n",
              " 252.75,\n",
              " 254.63999938964844,\n",
              " 248.0,\n",
              " 251.99000549316406,\n",
              " 251.75999450683594,\n",
              " 254.49000549316406,\n",
              " 255.05999755859375,\n",
              " 253.74000549316406,\n",
              " 251.5,\n",
              " 251.0,\n",
              " 249.1199951171875,\n",
              " 251.6199951171875,\n",
              " 243.92999267578125,\n",
              " 251.1300048828125,\n",
              " 251.8699951171875,\n",
              " 254.6199951171875,\n",
              " 250.41000366210938,\n",
              " 252.1999969482422,\n",
              " 252.5500030517578,\n",
              " 251.47000122070312,\n",
              " 249.58999633789062,\n",
              " 246.4199981689453,\n",
              " 245.16000366210938,\n",
              " 248.1699981689453,\n",
              " 240.30999755859375,\n",
              " 244.75999450683594,\n",
              " 240.6199951171875,\n",
              " 245.25999450683594,\n",
              " 251.2899932861328,\n",
              " 248.9600067138672,\n",
              " 244.0,\n",
              " 246.72999572753906,\n",
              " 247.25999450683594,\n",
              " 249.5500030517578,\n",
              " 248.85000610351562,\n",
              " 251.14999389648438,\n",
              " 254.66000366210938,\n",
              " 249.25,\n",
              " 248.30999755859375,\n",
              " 248.4499969482422,\n",
              " 245.30999755859375,\n",
              " 249.47000122070312,\n",
              " 248.50999450683594,\n",
              " 250.83999633789062,\n",
              " 255.39999389648438,\n",
              " 246.25]"
            ]
          },
          "metadata": {},
          "execution_count": 131
        }
      ]
    },
    {
      "cell_type": "code",
      "source": [
        "x = np.arange (1,len(y)+1,1)"
      ],
      "metadata": {
        "id": "i9B2p4tZOt3x"
      },
      "execution_count": 132,
      "outputs": []
    },
    {
      "cell_type": "code",
      "source": [
        "\n",
        "\"\"\"**padronização dos dados**\"\"\"\n",
        "\n",
        "minimo = np.min(y)\n",
        "maximo = np.max(y)\n",
        "y = (y - minimo)/(maximo - minimo)"
      ],
      "metadata": {
        "id": "wiY-vnrkOv0R"
      },
      "execution_count": 133,
      "outputs": []
    },
    {
      "cell_type": "code",
      "source": [
        "import matplotlib.pyplot as plt\n",
        "plt.title('Série Temporal - Normalizada')\n",
        "plt.xlabel('Período')\n",
        "plt.ylabel('Valor')\n",
        "plt.plot(x,y)\n",
        "plt.show()"
      ],
      "metadata": {
        "colab": {
          "base_uri": "https://localhost:8080/",
          "height": 295
        },
        "id": "Nmw-lPCsPjdb",
        "outputId": "a45e2c3b-a46c-424b-eae8-e2c8a9d6c9c8"
      },
      "execution_count": 134,
      "outputs": [
        {
          "output_type": "display_data",
          "data": {
            "text/plain": [
              "<Figure size 432x288 with 1 Axes>"
            ],
            "image/png": "[encoded data removed]"
          },
          "metadata": {
            "needs_background": "light"
          }
        }
      ]
    },
    {
      "cell_type": "code",
      "source": [
        "\n",
        "\"\"\"**Preparação dos conjuntos de dados de treinamento e de teste**\"\"\"\n",
        "\n",
        "percentual_treinamento = 0.8\n",
        "qtd_treinamento = int(percentual_treinamento*(len(x)));\n",
        "\n",
        "x_treino = x[0:qtd_treinamento] \n",
        "x_teste = x[qtd_treinamento:]\n",
        "\n",
        "y_treino = y[0:qtd_treinamento]\n",
        "y_teste = y[qtd_treinamento:]\n",
        "\n",
        "treino = np.array(list(zip(x_treino, y_treino)))\n",
        "teste = np.array(list(zip(x_teste, y_teste)))\n",
        "for i in range(5):\n",
        "  print('treino[{}]: {}'.format(i+1, treino[i]))"
      ],
      "metadata": {
        "colab": {
          "base_uri": "https://localhost:8080/"
        },
        "id": "kquby3pWPlX5",
        "outputId": "d9e66624-c965-401b-c434-ce1f678dd7c9"
      },
      "execution_count": 135,
      "outputs": [
        {
          "output_type": "stream",
          "name": "stdout",
          "text": [
            "treino[1]: [1.        0.3074416]\n",
            "treino[2]: [2.         0.30788597]\n",
            "treino[3]: [3.         0.32121428]\n",
            "treino[4]: [4.        0.3234357]\n",
            "treino[5]: [5.         0.33232128]\n"
          ]
        }
      ]
    },
    {
      "cell_type": "code",
      "source": [
        "\n",
        "\"\"\"**Organização do modelo de dados**\"\"\"\n",
        "\n",
        "def create_dataset(n_X, look_back):\n",
        "  dataX = []\n",
        "  dataY = []\n",
        "  for i in range(len(n_X)-look_back):\n",
        "    a = n_X[i:(i+look_back), ]\n",
        "    print('a: {}'.format(a))\n",
        "    dataX.append(a)\n",
        "    dataY.append(n_X[i + look_back, ])\n",
        "  print('dataX: {}'.format(dataX))\n",
        "  return np.array(dataX), np.array(dataY)"
      ],
      "metadata": {
        "id": "RA0Aqfm3PrEq"
      },
      "execution_count": 136,
      "outputs": []
    },
    {
      "cell_type": "code",
      "source": [
        "\n",
        "def preparar_dados(dados_serie, look_back):\n",
        "  X, y =[],[]\n",
        "  n = len(dados_serie)\n",
        "  for i in range(n - look_back):\n",
        "    posicao_fim = i + look_back\n",
        "    if posicao_fim <= n:\n",
        "      seq_x = dados_serie[i:posicao_fim,1]\n",
        "      seq_y = dados_serie[posicao_fim,1]\n",
        "      X.append(seq_x)\n",
        "      y.append(seq_y)\n",
        "  return np.array(X), np.array(y)"
      ],
      "metadata": {
        "id": "KZjqI1zePtFi"
      },
      "execution_count": 137,
      "outputs": []
    },
    {
      "cell_type": "code",
      "source": [
        "\"\"\"**Visualização da estruturação dos dados**\"\"\"\n",
        "\n",
        "look_back = 1\n",
        "x_treino, y_treino = preparar_dados(treino, look_back)\n",
        "x_teste, y_teste = preparar_dados(teste, look_back)\n",
        "\n",
        "n_caracteristicas = 1 #série monovariada\n",
        "x_treino = x_treino.reshape((x_treino.shape[0], \n",
        "                             x_treino.shape[1], \n",
        "                             n_caracteristicas))\n",
        "x_teste = x_teste.reshape((x_teste.shape[0], \n",
        "                       x_teste.shape[1], \n",
        "                       n_caracteristicas))\n",
        "\n",
        "#print('ax: {}'.format(trainx))\n",
        "#print('y: {}'.format(y))\n",
        "for i in range(5):\n",
        "  print('treino[{}]: {} -> {}'.format(i+1, x_treino[i], y_treino[i]))"
      ],
      "metadata": {
        "colab": {
          "base_uri": "https://localhost:8080/"
        },
        "id": "Ye81-FNMPwAK",
        "outputId": "f4786a01-6611-458f-ed75-c9d4a4fa1cb6"
      },
      "execution_count": 138,
      "outputs": [
        {
          "output_type": "stream",
          "name": "stdout",
          "text": [
            "treino[1]: [[0.3074416]] -> 0.3078859747609127\n",
            "treino[2]: [[0.30788597]] -> 0.32121428096079413\n",
            "treino[3]: [[0.32121428]] -> 0.32343570298951363\n",
            "treino[4]: [[0.3234357]] -> 0.33232127811817386\n",
            "treino[5]: [[0.33232128]] -> 0.33232127811817386\n"
          ]
        }
      ]
    },
    {
      "cell_type": "code",
      "source": [
        "\"\"\"**Criação do Modelo de Redes Neurais**\"\"\"\n",
        "\n",
        "import tensorflow as tf\n",
        "from keras.models import Sequential\n",
        "from keras.layers import LSTM, Dense, Dropout\n",
        "n_etapas = x_treino.shape[1]\n",
        "n_caracteristicas = x_treino.shape[2]\n",
        "epocas = 20\n",
        "n_unidades = 100\n",
        "tf.random.set_seed(8888) # Setting seed to ensure reproducibility.\n",
        "modelo = Sequential()\n",
        "camada_de_entrada=(n_etapas, n_caracteristicas)\n",
        "modelo.add(LSTM(n_unidades, \n",
        "               return_sequences = True, \n",
        "               input_shape = camada_de_entrada))\n",
        "modelo.add(Dropout(0.2))\n",
        "modelo.add(LSTM(128,\n",
        "               input_shape = camada_de_entrada))\n",
        "modelo.add(Dense(1))"
      ],
      "metadata": {
        "id": "4ksv9y_vPy1K"
      },
      "execution_count": 139,
      "outputs": []
    },
    {
      "cell_type": "code",
      "source": [
        "modelo.summary()"
      ],
      "metadata": {
        "colab": {
          "base_uri": "https://localhost:8080/"
        },
        "id": "rVjtJjZUP2Wb",
        "outputId": "b51fce47-2d15-4ca2-f52f-d4a96da3a381"
      },
      "execution_count": 140,
      "outputs": [
        {
          "output_type": "stream",
          "name": "stdout",
          "text": [
            "Model: \"sequential_2\"\n",
            "_________________________________________________________________\n",
            " Layer (type)                Output Shape              Param #   \n",
            "=================================================================\n",
            " lstm_4 (LSTM)               (None, 1, 100)            40800     \n",
            "                                                                 \n",
            " dropout_2 (Dropout)         (None, 1, 100)            0         \n",
            "                                                                 \n",
            " lstm_5 (LSTM)               (None, 128)               117248    \n",
            "                                                                 \n",
            " dense_2 (Dense)             (None, 1)                 129       \n",
            "                                                                 \n",
            "=================================================================\n",
            "Total params: 158,177\n",
            "Trainable params: 158,177\n",
            "Non-trainable params: 0\n",
            "_________________________________________________________________\n"
          ]
        }
      ]
    },
    {
      "cell_type": "code",
      "source": [
        "\n",
        "modelo.compile(loss = 'mean_squared_error', \n",
        "              optimizer = 'adam')"
      ],
      "metadata": {
        "id": "arH8DNUzP44D"
      },
      "execution_count": 141,
      "outputs": []
    },
    {
      "cell_type": "code",
      "source": [
        "historico = modelo.fit(x_treino, y_treino,\n",
        "                       epochs = epocas,\n",
        "                       batch_size = 70,\n",
        "                       verbose = False,\n",
        "                       shuffle = False,\n",
        "                       validation_split = 0.3)"
      ],
      "metadata": {
        "id": "P_9rNYxvP7Rz"
      },
      "execution_count": 142,
      "outputs": []
    },
    {
      "cell_type": "code",
      "source": [
        "import pandas as pd\n",
        "hist = pd.DataFrame(historico.history)\n",
        "hist.head()"
      ],
      "metadata": {
        "colab": {
          "base_uri": "https://localhost:8080/",
          "height": 206
        },
        "id": "tnLMNcAAP_fs",
        "outputId": "96e2ddd5-d103-466e-ed13-3f97bda62925"
      },
      "execution_count": 143,
      "outputs": [
        {
          "output_type": "execute_result",
          "data": {
            "text/plain": [
              "       loss  val_loss\n",
              "0  0.067478  0.234685\n",
              "1  0.044926  0.170265\n",
              "2  0.025059  0.104129\n",
              "3  0.012333  0.053182\n",
              "4  0.009117  0.033824"
            ],
            "text/html": [
              "\n",
              "  <div id=\"df-25bfdcb0-b9a1-48fe-a068-6283197b06e1\">\n",
              "    <div class=\"colab-df-container\">\n",
              "      <div>\n",
              "<style scoped>\n",
              "    .dataframe tbody tr th:only-of-type {\n",
              "        vertical-align: middle;\n",
              "    }\n",
              "\n",
              "    .dataframe tbody tr th {\n",
              "        vertical-align: top;\n",
              "    }\n",
              "\n",
              "    .dataframe thead th {\n",
              "        text-align: right;\n",
              "    }\n",
              "</style>\n",
              "<table border=\"1\" class=\"dataframe\">\n",
              "  <thead>\n",
              "    <tr style=\"text-align: right;\">\n",
              "      <th></th>\n",
              "      <th>loss</th>\n",
              "      <th>val_loss</th>\n",
              "    </tr>\n",
              "  </thead>\n",
              "  <tbody>\n",
              "    <tr>\n",
              "      <th>0</th>\n",
              "      <td>0.067478</td>\n",
              "      <td>0.234685</td>\n",
              "    </tr>\n",
              "    <tr>\n",
              "      <th>1</th>\n",
              "      <td>0.044926</td>\n",
              "      <td>0.170265</td>\n",
              "    </tr>\n",
              "    <tr>\n",
              "      <th>2</th>\n",
              "      <td>0.025059</td>\n",
              "      <td>0.104129</td>\n",
              "    </tr>\n",
              "    <tr>\n",
              "      <th>3</th>\n",
              "      <td>0.012333</td>\n",
              "      <td>0.053182</td>\n",
              "    </tr>\n",
              "    <tr>\n",
              "      <th>4</th>\n",
              "      <td>0.009117</td>\n",
              "      <td>0.033824</td>\n",
              "    </tr>\n",
              "  </tbody>\n",
              "</table>\n",
              "</div>\n",
              "      <button class=\"colab-df-convert\" onclick=\"convertToInteractive('df-25bfdcb0-b9a1-48fe-a068-6283197b06e1')\"\n",
              "              title=\"Convert this dataframe to an interactive table.\"\n",
              "              style=\"display:none;\">\n",
              "        \n",
              "  <svg xmlns=\"http://www.w3.org/2000/svg\" height=\"24px\"viewBox=\"0 0 24 24\"\n",
              "       width=\"24px\">\n",
              "    <path d=\"M0 0h24v24H0V0z\" fill=\"none\"/>\n",
              "    <path d=\"M18.56 5.44l.94 2.06.94-2.06 2.06-.94-2.06-.94-.94-2.06-.94 2.06-2.06.94zm-11 1L8.5 8.5l.94-2.06 2.06-.94-2.06-.94L8.5 2.5l-.94 2.06-2.06.94zm10 10l.94 2.06.94-2.06 2.06-.94-2.06-.94-.94-2.06-.94 2.06-2.06.94z\"/><path d=\"M17.41 7.96l-1.37-1.37c-.4-.4-.92-.59-1.43-.59-.52 0-1.04.2-1.43.59L10.3 9.45l-7.72 7.72c-.78.78-.78 2.05 0 2.83L4 21.41c.39.39.9.59 1.41.59.51 0 1.02-.2 1.41-.59l7.78-7.78 2.81-2.81c.8-.78.8-2.07 0-2.86zM5.41 20L4 18.59l7.72-7.72 1.47 1.35L5.41 20z\"/>\n",
              "  </svg>\n",
              "      </button>\n",
              "      \n",
              "  <style>\n",
              "    .colab-df-container {\n",
              "      display:flex;\n",
              "      flex-wrap:wrap;\n",
              "      gap: 12px;\n",
              "    }\n",
              "\n",
              "    .colab-df-convert {\n",
              "      background-color: #E8F0FE;\n",
              "      border: none;\n",
              "      border-radius: 50%;\n",
              "      cursor: pointer;\n",
              "      display: none;\n",
              "      fill: #1967D2;\n",
              "      height: 32px;\n",
              "      padding: 0 0 0 0;\n",
              "      width: 32px;\n",
              "    }\n",
              "\n",
              "    .colab-df-convert:hover {\n",
              "      background-color: #E2EBFA;\n",
              "      box-shadow: 0px 1px 2px rgba(60, 64, 67, 0.3), 0px 1px 3px 1px rgba(60, 64, 67, 0.15);\n",
              "      fill: #174EA6;\n",
              "    }\n",
              "\n",
              "    [theme=dark] .colab-df-convert {\n",
              "      background-color: #3B4455;\n",
              "      fill: #D2E3FC;\n",
              "    }\n",
              "\n",
              "    [theme=dark] .colab-df-convert:hover {\n",
              "      background-color: #434B5C;\n",
              "      box-shadow: 0px 1px 3px 1px rgba(0, 0, 0, 0.15);\n",
              "      filter: drop-shadow(0px 1px 2px rgba(0, 0, 0, 0.3));\n",
              "      fill: #FFFFFF;\n",
              "    }\n",
              "  </style>\n",
              "\n",
              "      <script>\n",
              "        const buttonEl =\n",
              "          document.querySelector('#df-25bfdcb0-b9a1-48fe-a068-6283197b06e1 button.colab-df-convert');\n",
              "        buttonEl.style.display =\n",
              "          google.colab.kernel.accessAllowed ? 'block' : 'none';\n",
              "\n",
              "        async function convertToInteractive(key) {\n",
              "          const element = document.querySelector('#df-25bfdcb0-b9a1-48fe-a068-6283197b06e1');\n",
              "          const dataTable =\n",
              "            await google.colab.kernel.invokeFunction('convertToInteractive',\n",
              "                                                     [key], {});\n",
              "          if (!dataTable) return;\n",
              "\n",
              "          const docLinkHtml = 'Like what you see? Visit the ' +\n",
              "            '<a target=\"_blank\" href=https://colab.research.google.com/notebooks/data_table.ipynb>data table notebook</a>'\n",
              "            + ' to learn more about interactive tables.';\n",
              "          element.innerHTML = '';\n",
              "          dataTable['output_type'] = 'display_data';\n",
              "          await google.colab.output.renderOutput(dataTable, element);\n",
              "          const docLink = document.createElement('div');\n",
              "          docLink.innerHTML = docLinkHtml;\n",
              "          element.appendChild(docLink);\n",
              "        }\n",
              "      </script>\n",
              "    </div>\n",
              "  </div>\n",
              "  "
            ]
          },
          "metadata": {},
          "execution_count": 143
        }
      ]
    },
    {
      "cell_type": "code",
      "source": [
        "loss = modelo.evaluate(x_teste, y_teste, batch_size=64)\n",
        "print(\"loss: {}\".format(loss))"
      ],
      "metadata": {
        "colab": {
          "base_uri": "https://localhost:8080/"
        },
        "id": "hZVueqC2QCft",
        "outputId": "e78ab95f-86ed-414d-be2a-55c8479eeae3"
      },
      "execution_count": 144,
      "outputs": [
        {
          "output_type": "stream",
          "name": "stdout",
          "text": [
            "4/4 [==============================] - 0s 8ms/step - loss: 0.0180\n",
            "loss: 0.01796906813979149\n"
          ]
        }
      ]
    },
    {
      "cell_type": "code",
      "source": [
        "plt.title('Cálculo do Erro ao longo do treinamento')\n",
        "plt.ylabel('Erro')\n",
        "plt.xlabel('Época')\n",
        "plt.plot(historico.history['loss'])\n",
        "plt.plot(historico.history['val_loss'])\n",
        "plt.legend(['loss (treinamento)', 'val_loss (validação)'], loc='upper right')\n",
        "plt.show()"
      ],
      "metadata": {
        "colab": {
          "base_uri": "https://localhost:8080/",
          "height": 297
        },
        "id": "NaZR7i6oQFbl",
        "outputId": "f3c44024-0855-4fab-e456-b3c6d14d59f6"
      },
      "execution_count": 145,
      "outputs": [
        {
          "output_type": "display_data",
          "data": {
            "text/plain": [
              "<Figure size 432x288 with 1 Axes>"
            ],
            "image/png": "[encoded data removed]"
          },
          "metadata": {
            "needs_background": "light"
          }
        }
      ]
    },
    {
      "cell_type": "code",
      "source": [
        "predicao = modelo.predict(x_teste)\n",
        "\n",
        "look_back = 1\n",
        "valores_reais_y = y_teste\n",
        "plt.figure(figsize=(50,10))\n",
        "plt.plot(list(range(len(valores_reais_y))), \n",
        "         valores_reais_y, \n",
        "         marker='.', \n",
        "         label=\"Real\")\n",
        "lst_dados_predicao=[w[0] for w in predicao]\n",
        "plt.plot(list(np.arange(len(predicao))-look_back), \n",
        "         lst_dados_predicao, \n",
        "         'r',label=\"Estimação do Modelo\")\n",
        "plt.ylabel('valores', size=15)\n",
        "plt.xlabel('período', size=15)\n",
        "plt.legend(fontsize=15)\n",
        "plt.show()"
      ],
      "metadata": {
        "colab": {
          "base_uri": "https://localhost:8080/",
          "height": 277
        },
        "id": "_91qUtReQKpG",
        "outputId": "81451f7a-92e3-41b2-9a0f-69ec5f779fce"
      },
      "execution_count": 146,
      "outputs": [
        {
          "output_type": "stream",
          "name": "stdout",
          "text": [
            "7/7 [==============================] - 3s 8ms/step\n"
          ]
        },
        {
          "output_type": "display_data",
          "data": {
            "text/plain": [
              "<Figure size 3600x720 with 1 Axes>"
            ],
            "image/png": "[encoded data removed]"
          },
          "metadata": {
            "needs_background": "light"
          }
        }
      ]
    },
    {
      "cell_type": "code",
      "source": [
        "len(valores_reais_y)\n",
        "\n",
        "len(lst_dados_predicao)\n",
        "\n",
        "n=len(x_teste)\n",
        "x_teste[n-1] #lembrar que no Python a indexação começa na posição 0\n",
        "\n",
        "minha_predicao = modelo.predict([x_teste[n-1]])\n",
        "\n",
        "print(f'minha predição é: {minha_predicao}')"
      ],
      "metadata": {
        "colab": {
          "base_uri": "https://localhost:8080/"
        },
        "id": "XPTt1tGyQOdI",
        "outputId": "15d5f671-5328-43d5-964f-9118a07a683c"
      },
      "execution_count": 147,
      "outputs": [
        {
          "output_type": "stream",
          "name": "stdout",
          "text": [
            "1/1 [==============================] - 3s 3s/step\n",
            "minha predição é: [[0.65308654]]\n"
          ]
        }
      ]
    },
    {
      "cell_type": "markdown",
      "source": [
        "## PREDIZENDO MAIS VALORES"
      ],
      "metadata": {
        "id": "pxzPlyy3hhhi"
      }
    },
    {
      "cell_type": "code",
      "source": [
        "# assume `dados_series` contains the new stock prices data\n",
        "dados_series = yf.download([\"ABUD34.SA\"], start=\"2022-01-01\", end=\"2022-01-05\")"
      ],
      "metadata": {
        "colab": {
          "base_uri": "https://localhost:8080/"
        },
        "id": "yZKB9Pe_Olpq",
        "outputId": "de6d176a-a136-4b28-f209-cf582498091c"
      },
      "execution_count": 148,
      "outputs": [
        {
          "output_type": "stream",
          "name": "stdout",
          "text": [
            "\r[*********************100%***********************]  1 of 1 completed\n"
          ]
        }
      ]
    },
    {
      "cell_type": "code",
      "source": [
        "new_data = dados_series.drop(['Open', 'High', 'Low', 'Adj Close', 'Volume'], axis=1)"
      ],
      "metadata": {
        "id": "mh6w5tlIhD7K"
      },
      "execution_count": 149,
      "outputs": []
    },
    {
      "cell_type": "code",
      "source": [
        "new_data"
      ],
      "metadata": {
        "colab": {
          "base_uri": "https://localhost:8080/",
          "height": 143
        },
        "id": "eCui09MrhFg3",
        "outputId": "ed87bad5-b292-4ab1-a795-c1555b58680e"
      },
      "execution_count": 150,
      "outputs": [
        {
          "output_type": "execute_result",
          "data": {
            "text/plain": [
              "                Close\n",
              "Date                 \n",
              "2022-01-03  60.000000\n",
              "2022-01-04  59.849998"
            ],
            "text/html": [
              "\n",
              "  <div id=\"df-3f7e4c02-c487-4942-8781-5984f9e334d3\">\n",
              "    <div class=\"colab-df-container\">\n",
              "      <div>\n",
              "<style scoped>\n",
              "    .dataframe tbody tr th:only-of-type {\n",
              "        vertical-align: middle;\n",
              "    }\n",
              "\n",
              "    .dataframe tbody tr th {\n",
              "        vertical-align: top;\n",
              "    }\n",
              "\n",
              "    .dataframe thead th {\n",
              "        text-align: right;\n",
              "    }\n",
              "</style>\n",
              "<table border=\"1\" class=\"dataframe\">\n",
              "  <thead>\n",
              "    <tr style=\"text-align: right;\">\n",
              "      <th></th>\n",
              "      <th>Close</th>\n",
              "    </tr>\n",
              "    <tr>\n",
              "      <th>Date</th>\n",
              "      <th></th>\n",
              "    </tr>\n",
              "  </thead>\n",
              "  <tbody>\n",
              "    <tr>\n",
              "      <th>2022-01-03</th>\n",
              "      <td>60.000000</td>\n",
              "    </tr>\n",
              "    <tr>\n",
              "      <th>2022-01-04</th>\n",
              "      <td>59.849998</td>\n",
              "    </tr>\n",
              "  </tbody>\n",
              "</table>\n",
              "</div>\n",
              "      <button class=\"colab-df-convert\" onclick=\"convertToInteractive('df-3f7e4c02-c487-4942-8781-5984f9e334d3')\"\n",
              "              title=\"Convert this dataframe to an interactive table.\"\n",
              "              style=\"display:none;\">\n",
              "        \n",
              "  <svg xmlns=\"http://www.w3.org/2000/svg\" height=\"24px\"viewBox=\"0 0 24 24\"\n",
              "       width=\"24px\">\n",
              "    <path d=\"M0 0h24v24H0V0z\" fill=\"none\"/>\n",
              "    <path d=\"M18.56 5.44l.94 2.06.94-2.06 2.06-.94-2.06-.94-.94-2.06-.94 2.06-2.06.94zm-11 1L8.5 8.5l.94-2.06 2.06-.94-2.06-.94L8.5 2.5l-.94 2.06-2.06.94zm10 10l.94 2.06.94-2.06 2.06-.94-2.06-.94-.94-2.06-.94 2.06-2.06.94z\"/><path d=\"M17.41 7.96l-1.37-1.37c-.4-.4-.92-.59-1.43-.59-.52 0-1.04.2-1.43.59L10.3 9.45l-7.72 7.72c-.78.78-.78 2.05 0 2.83L4 21.41c.39.39.9.59 1.41.59.51 0 1.02-.2 1.41-.59l7.78-7.78 2.81-2.81c.8-.78.8-2.07 0-2.86zM5.41 20L4 18.59l7.72-7.72 1.47 1.35L5.41 20z\"/>\n",
              "  </svg>\n",
              "      </button>\n",
              "      \n",
              "  <style>\n",
              "    .colab-df-container {\n",
              "      display:flex;\n",
              "      flex-wrap:wrap;\n",
              "      gap: 12px;\n",
              "    }\n",
              "\n",
              "    .colab-df-convert {\n",
              "      background-color: #E8F0FE;\n",
              "      border: none;\n",
              "      border-radius: 50%;\n",
              "      cursor: pointer;\n",
              "      display: none;\n",
              "      fill: #1967D2;\n",
              "      height: 32px;\n",
              "      padding: 0 0 0 0;\n",
              "      width: 32px;\n",
              "    }\n",
              "\n",
              "    .colab-df-convert:hover {\n",
              "      background-color: #E2EBFA;\n",
              "      box-shadow: 0px 1px 2px rgba(60, 64, 67, 0.3), 0px 1px 3px 1px rgba(60, 64, 67, 0.15);\n",
              "      fill: #174EA6;\n",
              "    }\n",
              "\n",
              "    [theme=dark] .colab-df-convert {\n",
              "      background-color: #3B4455;\n",
              "      fill: #D2E3FC;\n",
              "    }\n",
              "\n",
              "    [theme=dark] .colab-df-convert:hover {\n",
              "      background-color: #434B5C;\n",
              "      box-shadow: 0px 1px 3px 1px rgba(0, 0, 0, 0.15);\n",
              "      filter: drop-shadow(0px 1px 2px rgba(0, 0, 0, 0.3));\n",
              "      fill: #FFFFFF;\n",
              "    }\n",
              "  </style>\n",
              "\n",
              "      <script>\n",
              "        const buttonEl =\n",
              "          document.querySelector('#df-3f7e4c02-c487-4942-8781-5984f9e334d3 button.colab-df-convert');\n",
              "        buttonEl.style.display =\n",
              "          google.colab.kernel.accessAllowed ? 'block' : 'none';\n",
              "\n",
              "        async function convertToInteractive(key) {\n",
              "          const element = document.querySelector('#df-3f7e4c02-c487-4942-8781-5984f9e334d3');\n",
              "          const dataTable =\n",
              "            await google.colab.kernel.invokeFunction('convertToInteractive',\n",
              "                                                     [key], {});\n",
              "          if (!dataTable) return;\n",
              "\n",
              "          const docLinkHtml = 'Like what you see? Visit the ' +\n",
              "            '<a target=\"_blank\" href=https://colab.research.google.com/notebooks/data_table.ipynb>data table notebook</a>'\n",
              "            + ' to learn more about interactive tables.';\n",
              "          element.innerHTML = '';\n",
              "          dataTable['output_type'] = 'display_data';\n",
              "          await google.colab.output.renderOutput(dataTable, element);\n",
              "          const docLink = document.createElement('div');\n",
              "          docLink.innerHTML = docLinkHtml;\n",
              "          element.appendChild(docLink);\n",
              "        }\n",
              "      </script>\n",
              "    </div>\n",
              "  </div>\n",
              "  "
            ]
          },
          "metadata": {},
          "execution_count": 150
        }
      ]
    },
    {
      "cell_type": "code",
      "source": [
        "new_data.head()"
      ],
      "metadata": {
        "colab": {
          "base_uri": "https://localhost:8080/",
          "height": 143
        },
        "id": "GYvaVfa6hNP4",
        "outputId": "a0d2aafd-46ac-49a2-ff68-101848bcf4aa"
      },
      "execution_count": 151,
      "outputs": [
        {
          "output_type": "execute_result",
          "data": {
            "text/plain": [
              "                Close\n",
              "Date                 \n",
              "2022-01-03  60.000000\n",
              "2022-01-04  59.849998"
            ],
            "text/html": [
              "\n",
              "  <div id=\"df-91af2a0e-db8f-40e5-9d20-8561e48395ff\">\n",
              "    <div class=\"colab-df-container\">\n",
              "      <div>\n",
              "<style scoped>\n",
              "    .dataframe tbody tr th:only-of-type {\n",
              "        vertical-align: middle;\n",
              "    }\n",
              "\n",
              "    .dataframe tbody tr th {\n",
              "        vertical-align: top;\n",
              "    }\n",
              "\n",
              "    .dataframe thead th {\n",
              "        text-align: right;\n",
              "    }\n",
              "</style>\n",
              "<table border=\"1\" class=\"dataframe\">\n",
              "  <thead>\n",
              "    <tr style=\"text-align: right;\">\n",
              "      <th></th>\n",
              "      <th>Close</th>\n",
              "    </tr>\n",
              "    <tr>\n",
              "      <th>Date</th>\n",
              "      <th></th>\n",
              "    </tr>\n",
              "  </thead>\n",
              "  <tbody>\n",
              "    <tr>\n",
              "      <th>2022-01-03</th>\n",
              "      <td>60.000000</td>\n",
              "    </tr>\n",
              "    <tr>\n",
              "      <th>2022-01-04</th>\n",
              "      <td>59.849998</td>\n",
              "    </tr>\n",
              "  </tbody>\n",
              "</table>\n",
              "</div>\n",
              "      <button class=\"colab-df-convert\" onclick=\"convertToInteractive('df-91af2a0e-db8f-40e5-9d20-8561e48395ff')\"\n",
              "              title=\"Convert this dataframe to an interactive table.\"\n",
              "              style=\"display:none;\">\n",
              "        \n",
              "  <svg xmlns=\"http://www.w3.org/2000/svg\" height=\"24px\"viewBox=\"0 0 24 24\"\n",
              "       width=\"24px\">\n",
              "    <path d=\"M0 0h24v24H0V0z\" fill=\"none\"/>\n",
              "    <path d=\"M18.56 5.44l.94 2.06.94-2.06 2.06-.94-2.06-.94-.94-2.06-.94 2.06-2.06.94zm-11 1L8.5 8.5l.94-2.06 2.06-.94-2.06-.94L8.5 2.5l-.94 2.06-2.06.94zm10 10l.94 2.06.94-2.06 2.06-.94-2.06-.94-.94-2.06-.94 2.06-2.06.94z\"/><path d=\"M17.41 7.96l-1.37-1.37c-.4-.4-.92-.59-1.43-.59-.52 0-1.04.2-1.43.59L10.3 9.45l-7.72 7.72c-.78.78-.78 2.05 0 2.83L4 21.41c.39.39.9.59 1.41.59.51 0 1.02-.2 1.41-.59l7.78-7.78 2.81-2.81c.8-.78.8-2.07 0-2.86zM5.41 20L4 18.59l7.72-7.72 1.47 1.35L5.41 20z\"/>\n",
              "  </svg>\n",
              "      </button>\n",
              "      \n",
              "  <style>\n",
              "    .colab-df-container {\n",
              "      display:flex;\n",
              "      flex-wrap:wrap;\n",
              "      gap: 12px;\n",
              "    }\n",
              "\n",
              "    .colab-df-convert {\n",
              "      background-color: #E8F0FE;\n",
              "      border: none;\n",
              "      border-radius: 50%;\n",
              "      cursor: pointer;\n",
              "      display: none;\n",
              "      fill: #1967D2;\n",
              "      height: 32px;\n",
              "      padding: 0 0 0 0;\n",
              "      width: 32px;\n",
              "    }\n",
              "\n",
              "    .colab-df-convert:hover {\n",
              "      background-color: #E2EBFA;\n",
              "      box-shadow: 0px 1px 2px rgba(60, 64, 67, 0.3), 0px 1px 3px 1px rgba(60, 64, 67, 0.15);\n",
              "      fill: #174EA6;\n",
              "    }\n",
              "\n",
              "    [theme=dark] .colab-df-convert {\n",
              "      background-color: #3B4455;\n",
              "      fill: #D2E3FC;\n",
              "    }\n",
              "\n",
              "    [theme=dark] .colab-df-convert:hover {\n",
              "      background-color: #434B5C;\n",
              "      box-shadow: 0px 1px 3px 1px rgba(0, 0, 0, 0.15);\n",
              "      filter: drop-shadow(0px 1px 2px rgba(0, 0, 0, 0.3));\n",
              "      fill: #FFFFFF;\n",
              "    }\n",
              "  </style>\n",
              "\n",
              "      <script>\n",
              "        const buttonEl =\n",
              "          document.querySelector('#df-91af2a0e-db8f-40e5-9d20-8561e48395ff button.colab-df-convert');\n",
              "        buttonEl.style.display =\n",
              "          google.colab.kernel.accessAllowed ? 'block' : 'none';\n",
              "\n",
              "        async function convertToInteractive(key) {\n",
              "          const element = document.querySelector('#df-91af2a0e-db8f-40e5-9d20-8561e48395ff');\n",
              "          const dataTable =\n",
              "            await google.colab.kernel.invokeFunction('convertToInteractive',\n",
              "                                                     [key], {});\n",
              "          if (!dataTable) return;\n",
              "\n",
              "          const docLinkHtml = 'Like what you see? Visit the ' +\n",
              "            '<a target=\"_blank\" href=https://colab.research.google.com/notebooks/data_table.ipynb>data table notebook</a>'\n",
              "            + ' to learn more about interactive tables.';\n",
              "          element.innerHTML = '';\n",
              "          dataTable['output_type'] = 'display_data';\n",
              "          await google.colab.output.renderOutput(dataTable, element);\n",
              "          const docLink = document.createElement('div');\n",
              "          docLink.innerHTML = docLinkHtml;\n",
              "          element.appendChild(docLink);\n",
              "        }\n",
              "      </script>\n",
              "    </div>\n",
              "  </div>\n",
              "  "
            ]
          },
          "metadata": {},
          "execution_count": 151
        }
      ]
    },
    {
      "cell_type": "code",
      "source": [
        "new_data['Close']"
      ],
      "metadata": {
        "colab": {
          "base_uri": "https://localhost:8080/"
        },
        "id": "Lriwf3GGhNig",
        "outputId": "43f9c5f6-2f95-469b-d8ac-4312e45dbcd9"
      },
      "execution_count": 152,
      "outputs": [
        {
          "output_type": "execute_result",
          "data": {
            "text/plain": [
              "Date\n",
              "2022-01-03    60.000000\n",
              "2022-01-04    59.849998\n",
              "Name: Close, dtype: float64"
            ]
          },
          "metadata": {},
          "execution_count": 152
        }
      ]
    },
    {
      "cell_type": "code",
      "source": [
        "y=[]\n",
        "for a in new_data['Close']:\n",
        "  y.append(a)"
      ],
      "metadata": {
        "id": "twoL5bWChPeA"
      },
      "execution_count": 153,
      "outputs": []
    },
    {
      "cell_type": "code",
      "source": [
        "y"
      ],
      "metadata": {
        "colab": {
          "base_uri": "https://localhost:8080/"
        },
        "id": "rzyS49HNhQ5Z",
        "outputId": "007b0782-8057-425f-dd67-3034398f807d"
      },
      "execution_count": 154,
      "outputs": [
        {
          "output_type": "execute_result",
          "data": {
            "text/plain": [
              "[60.0, 59.849998474121094]"
            ]
          },
          "metadata": {},
          "execution_count": 154
        }
      ]
    },
    {
      "cell_type": "code",
      "source": [
        "x = np.arange (1,len(y)+1,1)"
      ],
      "metadata": {
        "id": "pddTN4BIhVPx"
      },
      "execution_count": 155,
      "outputs": []
    },
    {
      "cell_type": "code",
      "source": [
        "minimo = np.min(y)\n",
        "maximo = np.max(y)\n",
        "y = (y - minimo)/(maximo - minimo)"
      ],
      "metadata": {
        "id": "Rh3Fc_FShXQp"
      },
      "execution_count": 156,
      "outputs": []
    },
    {
      "cell_type": "code",
      "source": [
        "predicted_data = modelo.predict(new_data)\n",
        "                                                         "
      ],
      "metadata": {
        "colab": {
          "base_uri": "https://localhost:8080/"
        },
        "id": "8kKmojEAhYg6",
        "outputId": "9a55291e-3686-428c-ee7e-19c9f93b6c13"
      },
      "execution_count": 157,
      "outputs": [
        {
          "output_type": "stream",
          "name": "stdout",
          "text": [
            "1/1 [==============================] - 2s 2s/step\n"
          ]
        }
      ]
    },
    {
      "cell_type": "code",
      "source": [
        "# denormalize the predicted data\n",
        "predicted_data_2 = predicted_data * (maximo - minimo) + minimo"
      ],
      "metadata": {
        "id": "tTXwnLGdhaXK"
      },
      "execution_count": 203,
      "outputs": []
    },
    {
      "cell_type": "code",
      "source": [
        "# print the predicted stock prices\n",
        "print(predicted_data_2)"
      ],
      "metadata": {
        "colab": {
          "base_uri": "https://localhost:8080/"
        },
        "id": "781KFGzhhcWC",
        "outputId": "688fc9b1-ad3c-4309-df1a-3607cdd489d1"
      },
      "execution_count": 205,
      "outputs": [
        {
          "output_type": "stream",
          "name": "stdout",
          "text": [
            "[[128.117  ]\n",
            " [128.09256]]\n"
          ]
        }
      ]
    },
    {
      "cell_type": "code",
      "source": [
        "# assume `dados_series` contains the new stock prices data\n",
        "dados_series = yf.download([\"XPBR31.SA\"], start=\"2022-01-01\", end=\"2022-01-05\")"
      ],
      "metadata": {
        "colab": {
          "base_uri": "https://localhost:8080/"
        },
        "id": "TIH1i6KKvi8m",
        "outputId": "5be3ec67-e715-4c9b-96a5-a0623bd6ccea"
      },
      "execution_count": 160,
      "outputs": [
        {
          "output_type": "stream",
          "name": "stdout",
          "text": [
            "\r[*********************100%***********************]  1 of 1 completed\n"
          ]
        }
      ]
    },
    {
      "cell_type": "code",
      "source": [
        "new_data = dados_series.drop(['Open', 'High', 'Low', 'Adj Close', 'Volume'], axis=1)"
      ],
      "metadata": {
        "id": "7uut3Lz0vn7h"
      },
      "execution_count": 161,
      "outputs": []
    },
    {
      "cell_type": "code",
      "source": [
        "new_data"
      ],
      "metadata": {
        "colab": {
          "base_uri": "https://localhost:8080/",
          "height": 143
        },
        "id": "wdb4oK4LvoMs",
        "outputId": "48f79984-d5bc-4ea7-9542-6a1bb32d6b95"
      },
      "execution_count": 162,
      "outputs": [
        {
          "output_type": "execute_result",
          "data": {
            "text/plain": [
              "                 Close\n",
              "Date                  \n",
              "2022-01-03  164.839996\n",
              "2022-01-04  159.699997"
            ],
            "text/html": [
              "\n",
              "  <div id=\"df-aed38526-a553-40d4-afaa-7f353a7c922e\">\n",
              "    <div class=\"colab-df-container\">\n",
              "      <div>\n",
              "<style scoped>\n",
              "    .dataframe tbody tr th:only-of-type {\n",
              "        vertical-align: middle;\n",
              "    }\n",
              "\n",
              "    .dataframe tbody tr th {\n",
              "        vertical-align: top;\n",
              "    }\n",
              "\n",
              "    .dataframe thead th {\n",
              "        text-align: right;\n",
              "    }\n",
              "</style>\n",
              "<table border=\"1\" class=\"dataframe\">\n",
              "  <thead>\n",
              "    <tr style=\"text-align: right;\">\n",
              "      <th></th>\n",
              "      <th>Close</th>\n",
              "    </tr>\n",
              "    <tr>\n",
              "      <th>Date</th>\n",
              "      <th></th>\n",
              "    </tr>\n",
              "  </thead>\n",
              "  <tbody>\n",
              "    <tr>\n",
              "      <th>2022-01-03</th>\n",
              "      <td>164.839996</td>\n",
              "    </tr>\n",
              "    <tr>\n",
              "      <th>2022-01-04</th>\n",
              "      <td>159.699997</td>\n",
              "    </tr>\n",
              "  </tbody>\n",
              "</table>\n",
              "</div>\n",
              "      <button class=\"colab-df-convert\" onclick=\"convertToInteractive('df-aed38526-a553-40d4-afaa-7f353a7c922e')\"\n",
              "              title=\"Convert this dataframe to an interactive table.\"\n",
              "              style=\"display:none;\">\n",
              "        \n",
              "  <svg xmlns=\"http://www.w3.org/2000/svg\" height=\"24px\"viewBox=\"0 0 24 24\"\n",
              "       width=\"24px\">\n",
              "    <path d=\"M0 0h24v24H0V0z\" fill=\"none\"/>\n",
              "    <path d=\"M18.56 5.44l.94 2.06.94-2.06 2.06-.94-2.06-.94-.94-2.06-.94 2.06-2.06.94zm-11 1L8.5 8.5l.94-2.06 2.06-.94-2.06-.94L8.5 2.5l-.94 2.06-2.06.94zm10 10l.94 2.06.94-2.06 2.06-.94-2.06-.94-.94-2.06-.94 2.06-2.06.94z\"/><path d=\"M17.41 7.96l-1.37-1.37c-.4-.4-.92-.59-1.43-.59-.52 0-1.04.2-1.43.59L10.3 9.45l-7.72 7.72c-.78.78-.78 2.05 0 2.83L4 21.41c.39.39.9.59 1.41.59.51 0 1.02-.2 1.41-.59l7.78-7.78 2.81-2.81c.8-.78.8-2.07 0-2.86zM5.41 20L4 18.59l7.72-7.72 1.47 1.35L5.41 20z\"/>\n",
              "  </svg>\n",
              "      </button>\n",
              "      \n",
              "  <style>\n",
              "    .colab-df-container {\n",
              "      display:flex;\n",
              "      flex-wrap:wrap;\n",
              "      gap: 12px;\n",
              "    }\n",
              "\n",
              "    .colab-df-convert {\n",
              "      background-color: #E8F0FE;\n",
              "      border: none;\n",
              "      border-radius: 50%;\n",
              "      cursor: pointer;\n",
              "      display: none;\n",
              "      fill: #1967D2;\n",
              "      height: 32px;\n",
              "      padding: 0 0 0 0;\n",
              "      width: 32px;\n",
              "    }\n",
              "\n",
              "    .colab-df-convert:hover {\n",
              "      background-color: #E2EBFA;\n",
              "      box-shadow: 0px 1px 2px rgba(60, 64, 67, 0.3), 0px 1px 3px 1px rgba(60, 64, 67, 0.15);\n",
              "      fill: #174EA6;\n",
              "    }\n",
              "\n",
              "    [theme=dark] .colab-df-convert {\n",
              "      background-color: #3B4455;\n",
              "      fill: #D2E3FC;\n",
              "    }\n",
              "\n",
              "    [theme=dark] .colab-df-convert:hover {\n",
              "      background-color: #434B5C;\n",
              "      box-shadow: 0px 1px 3px 1px rgba(0, 0, 0, 0.15);\n",
              "      filter: drop-shadow(0px 1px 2px rgba(0, 0, 0, 0.3));\n",
              "      fill: #FFFFFF;\n",
              "    }\n",
              "  </style>\n",
              "\n",
              "      <script>\n",
              "        const buttonEl =\n",
              "          document.querySelector('#df-aed38526-a553-40d4-afaa-7f353a7c922e button.colab-df-convert');\n",
              "        buttonEl.style.display =\n",
              "          google.colab.kernel.accessAllowed ? 'block' : 'none';\n",
              "\n",
              "        async function convertToInteractive(key) {\n",
              "          const element = document.querySelector('#df-aed38526-a553-40d4-afaa-7f353a7c922e');\n",
              "          const dataTable =\n",
              "            await google.colab.kernel.invokeFunction('convertToInteractive',\n",
              "                                                     [key], {});\n",
              "          if (!dataTable) return;\n",
              "\n",
              "          const docLinkHtml = 'Like what you see? Visit the ' +\n",
              "            '<a target=\"_blank\" href=https://colab.research.google.com/notebooks/data_table.ipynb>data table notebook</a>'\n",
              "            + ' to learn more about interactive tables.';\n",
              "          element.innerHTML = '';\n",
              "          dataTable['output_type'] = 'display_data';\n",
              "          await google.colab.output.renderOutput(dataTable, element);\n",
              "          const docLink = document.createElement('div');\n",
              "          docLink.innerHTML = docLinkHtml;\n",
              "          element.appendChild(docLink);\n",
              "        }\n",
              "      </script>\n",
              "    </div>\n",
              "  </div>\n",
              "  "
            ]
          },
          "metadata": {},
          "execution_count": 162
        }
      ]
    },
    {
      "cell_type": "code",
      "source": [
        "new_data['Close']"
      ],
      "metadata": {
        "colab": {
          "base_uri": "https://localhost:8080/"
        },
        "id": "d97_H2XLvqkh",
        "outputId": "60d155a1-55c1-4843-ac24-69d766dd5ea5"
      },
      "execution_count": 163,
      "outputs": [
        {
          "output_type": "execute_result",
          "data": {
            "text/plain": [
              "Date\n",
              "2022-01-03    164.839996\n",
              "2022-01-04    159.699997\n",
              "Name: Close, dtype: float64"
            ]
          },
          "metadata": {},
          "execution_count": 163
        }
      ]
    },
    {
      "cell_type": "code",
      "source": [
        "y=[]\n",
        "for a in new_data['Close']:\n",
        "  y.append(a)"
      ],
      "metadata": {
        "id": "ZozElba0vtew"
      },
      "execution_count": 164,
      "outputs": []
    },
    {
      "cell_type": "code",
      "source": [
        "y"
      ],
      "metadata": {
        "colab": {
          "base_uri": "https://localhost:8080/"
        },
        "id": "a0SZHGz9vwgf",
        "outputId": "52c7a8df-9a35-4796-f32b-aaa224dad352"
      },
      "execution_count": 165,
      "outputs": [
        {
          "output_type": "execute_result",
          "data": {
            "text/plain": [
              "[164.83999633789062, 159.6999969482422]"
            ]
          },
          "metadata": {},
          "execution_count": 165
        }
      ]
    },
    {
      "cell_type": "code",
      "source": [
        "x = np.arange (1,len(y)+1,1)"
      ],
      "metadata": {
        "id": "OXnZGJltvxFU"
      },
      "execution_count": 166,
      "outputs": []
    },
    {
      "cell_type": "code",
      "source": [
        "minimo = np.min(y)\n",
        "maximo = np.max(y)\n",
        "y = (y - minimo)/(maximo - minimo)"
      ],
      "metadata": {
        "id": "T3S9G83Avz0C"
      },
      "execution_count": 167,
      "outputs": []
    },
    {
      "cell_type": "code",
      "source": [
        "# use the trained model to predict the new stock prices\n",
        "predicted_data = modelo.predict(new_data)\n"
      ],
      "metadata": {
        "colab": {
          "base_uri": "https://localhost:8080/"
        },
        "id": "ek0AwPnmv3Nz",
        "outputId": "fcfc78f0-7795-4676-98f4-8ad6d55ab3a1"
      },
      "execution_count": 168,
      "outputs": [
        {
          "output_type": "stream",
          "name": "stdout",
          "text": [
            "1/1 [==============================] - 0s 51ms/step\n"
          ]
        }
      ]
    },
    {
      "cell_type": "code",
      "source": [
        "predicted_data_3 = predicted_data * (maximo - minimo) + minimo"
      ],
      "metadata": {
        "id": "l19xWAmev655"
      },
      "execution_count": 169,
      "outputs": []
    },
    {
      "cell_type": "code",
      "source": [
        "print(predicted_data_3)"
      ],
      "metadata": {
        "colab": {
          "base_uri": "https://localhost:8080/"
        },
        "id": "thMK9wHuwAKp",
        "outputId": "c4b62c4b-a39d-425d-b8a9-35eece55c945"
      },
      "execution_count": 170,
      "outputs": [
        {
          "output_type": "stream",
          "name": "stdout",
          "text": [
            "[[212.58221]\n",
            " [212.59077]]\n"
          ]
        }
      ]
    },
    {
      "cell_type": "code",
      "source": [
        "# assume `dados_series` contains the new stock prices data\n",
        "dados_series = yf.download([\"COCA34.SA\"], start=\"2022-01-01\", end=\"2022-01-05\")\n",
        "new_data = dados_series.drop(['Open', 'High', 'Low', 'Adj Close', 'Volume'], axis=1)\n",
        "new_data\n",
        "new_data['Close']\n",
        "y=[]\n",
        "for a in new_data['Close']:\n",
        "  y.append(a)\n",
        "\n",
        "x = np.arange (1,len(y)+1,1)\n",
        "\n",
        "minimo = np.min(y)\n",
        "maximo = np.max(y)\n",
        "y = (y - minimo)/(maximo - minimo)\n",
        "\n",
        "# use the trained model to predict the new stock prices\n",
        "predicted_data = modelo.predict(new_data)\n",
        "\n",
        "predicted_data_4 = predicted_data * (maximo - minimo) + minimo\n",
        "print(predicted_data_4)"
      ],
      "metadata": {
        "colab": {
          "base_uri": "https://localhost:8080/"
        },
        "id": "s4zWHveixsLw",
        "outputId": "cf036725-5b04-483e-9509-e085b8f71893"
      },
      "execution_count": 171,
      "outputs": [
        {
          "output_type": "stream",
          "name": "stdout",
          "text": [
            "[*********************100%***********************]  1 of 1 completed\n",
            "1/1 [==============================] - 0s 45ms/step\n",
            "[[67.714676]\n",
            " [67.71545 ]]\n"
          ]
        }
      ]
    },
    {
      "cell_type": "code",
      "source": [
        "# assume `dados_series` contains the new stock prices data\n",
        "dados_series = yf.download([\"COLG34.SA\"], start=\"2022-01-01\", end=\"2022-01-05\")\n",
        "new_data = dados_series.drop(['Open', 'High', 'Low', 'Adj Close', 'Volume'], axis=1)\n",
        "new_data\n",
        "new_data['Close']\n",
        "y=[]\n",
        "for a in new_data['Close']:\n",
        "  y.append(a)\n",
        "\n",
        "x = np.arange (1,len(y)+1,1)\n",
        "\n",
        "minimo = np.min(y)\n",
        "maximo = np.max(y)\n",
        "y = (y - minimo)/(maximo - minimo)\n",
        "\n",
        "# use the trained model to predict the new stock prices\n",
        "predicted_data = modelo.predict(new_data)\n",
        "\n",
        "predicted_data_5 = predicted_data * (maximo - minimo) + minimo\n",
        "print(predicted_data_5)"
      ],
      "metadata": {
        "colab": {
          "base_uri": "https://localhost:8080/"
        },
        "id": "YXq79Sq8K27n",
        "outputId": "997801e8-3e17-4b1f-f6de-b9c5cf3abab2"
      },
      "execution_count": 172,
      "outputs": [
        {
          "output_type": "stream",
          "name": "stdout",
          "text": [
            "[*********************100%***********************]  1 of 1 completed\n",
            "1/1 [==============================] - 0s 62ms/step\n",
            "[[76.30153 ]\n",
            " [76.301125]]\n"
          ]
        }
      ]
    },
    {
      "cell_type": "code",
      "source": [
        "# assume `dados_series` contains the new stock prices data\n",
        "dados_series = yf.download([\"MSCD34.SA\"], start=\"2022-01-01\", end=\"2022-01-05\")\n",
        "new_data = dados_series.drop(['Open', 'High', 'Low', 'Adj Close', 'Volume'], axis=1)\n",
        "new_data\n",
        "new_data['Close']\n",
        "y=[]\n",
        "for a in new_data['Close']:\n",
        "  y.append(a)\n",
        "\n",
        "x = np.arange (1,len(y)+1,1)\n",
        "\n",
        "minimo = np.min(y)\n",
        "maximo = np.max(y)\n",
        "y = (y - minimo)/(maximo - minimo)\n",
        "\n",
        "# use the trained model to predict the new stock prices\n",
        "predicted_data = modelo.predict(new_data)\n",
        "\n",
        "predicted_data_6 = predicted_data * (maximo - minimo) + minimo\n",
        "print(predicted_data_6)"
      ],
      "metadata": {
        "colab": {
          "base_uri": "https://localhost:8080/"
        },
        "id": "0JU0ZT-aK9dH",
        "outputId": "e82bca05-b0ef-42b4-b8ce-70c2eaa214f1"
      },
      "execution_count": 173,
      "outputs": [
        {
          "output_type": "stream",
          "name": "stdout",
          "text": [
            "[*********************100%***********************]  1 of 1 completed\n",
            "1/1 [==============================] - 0s 52ms/step\n",
            "[[77.00895 ]\n",
            " [77.008415]]\n"
          ]
        }
      ]
    },
    {
      "cell_type": "code",
      "source": [
        "# assume `dados_series` contains the new stock prices data\n",
        "dados_series = yf.download([\"NIKE34.SA\"], start=\"2022-01-01\", end=\"2022-01-05\")\n",
        "new_data = dados_series.drop(['Open', 'High', 'Low', 'Adj Close', 'Volume'], axis=1)\n",
        "new_data\n",
        "new_data['Close']\n",
        "y=[]\n",
        "for a in new_data['Close']:\n",
        "  y.append(a)\n",
        "\n",
        "x = np.arange (1,len(y)+1,1)\n",
        "\n",
        "minimo = np.min(y)\n",
        "maximo = np.max(y)\n",
        "y = (y - minimo)/(maximo - minimo)\n",
        "\n",
        "# use the trained model to predict the new stock prices\n",
        "predicted_data = modelo.predict(new_data)\n",
        "\n",
        "predicted_data_7 = predicted_data * (maximo - minimo) + minimo\n",
        "print(predicted_data_7)"
      ],
      "metadata": {
        "colab": {
          "base_uri": "https://localhost:8080/"
        },
        "id": "AFZMomYTLDIX",
        "outputId": "d669e66b-8382-45b8-bc26-8f0890509fab"
      },
      "execution_count": 174,
      "outputs": [
        {
          "output_type": "stream",
          "name": "stdout",
          "text": [
            "[*********************100%***********************]  1 of 1 completed\n",
            "1/1 [==============================] - 0s 62ms/step\n",
            "[[109.73867]\n",
            " [109.73602]]\n"
          ]
        }
      ]
    },
    {
      "cell_type": "code",
      "source": [
        "# assume `dados_series` contains the new stock prices data\n",
        "dados_series = yf.download([\"ORCL34.SA\"], start=\"2022-01-01\", end=\"2022-01-05\")\n",
        "new_data = dados_series.drop(['Open', 'High', 'Low', 'Adj Close', 'Volume'], axis=1)\n",
        "new_data\n",
        "new_data['Close']\n",
        "y=[]\n",
        "for a in new_data['Close']:\n",
        "  y.append(a)\n",
        "\n",
        "x = np.arange (1,len(y)+1,1)\n",
        "\n",
        "minimo = np.min(y)\n",
        "maximo = np.max(y)\n",
        "y = (y - minimo)/(maximo - minimo)\n",
        "\n",
        "# use the trained model to predict the new stock prices\n",
        "predicted_data = modelo.predict(new_data)\n",
        "\n",
        "predicted_data_8 = predicted_data * (maximo - minimo) + minimo\n",
        "print(predicted_data_8)"
      ],
      "metadata": {
        "colab": {
          "base_uri": "https://localhost:8080/"
        },
        "id": "Q0g2wN53LIP9",
        "outputId": "8cbcb453-2733-44dd-f792-01eb49e9b6b6"
      },
      "execution_count": 175,
      "outputs": [
        {
          "output_type": "stream",
          "name": "stdout",
          "text": [
            "[*********************100%***********************]  1 of 1 completed\n",
            "1/1 [==============================] - 0s 60ms/step\n",
            "[[94.23324]\n",
            " [94.23192]]\n"
          ]
        }
      ]
    },
    {
      "cell_type": "code",
      "source": [
        "# assume `dados_series` contains the new stock prices data\n",
        "dados_series = yf.download([\"RYTT34.SA\"], start=\"2022-01-01\", end=\"2022-01-05\")\n",
        "new_data = dados_series.drop(['Open', 'High', 'Low', 'Adj Close', 'Volume'], axis=1)\n",
        "new_data\n",
        "new_data['Close']\n",
        "y=[]\n",
        "for a in new_data['Close']:\n",
        "  y.append(a)\n",
        "\n",
        "x = np.arange (1,len(y)+1,1)\n",
        "\n",
        "minimo = np.min(y)\n",
        "maximo = np.max(y)\n",
        "y = (y - minimo)/(maximo - minimo)\n",
        "\n",
        "# use the trained model to predict the new stock prices\n",
        "predicted_data = modelo.predict(new_data)\n",
        "\n",
        "predicted_data_9 = predicted_data * (maximo - minimo) + minimo\n",
        "print(predicted_data_9)\n"
      ],
      "metadata": {
        "colab": {
          "base_uri": "https://localhost:8080/"
        },
        "id": "DHrd-O-eLNtk",
        "outputId": "84ccb74e-cc0b-4ead-e319-156d1b8aaae6"
      },
      "execution_count": 176,
      "outputs": [
        {
          "output_type": "stream",
          "name": "stdout",
          "text": [
            "[*********************100%***********************]  1 of 1 completed\n",
            "1/1 [==============================] - 0s 48ms/step\n",
            "[[111.89584 ]\n",
            " [111.886795]]\n"
          ]
        }
      ]
    },
    {
      "cell_type": "code",
      "source": [
        "# assume `dados_series` contains the new stock prices data\n",
        "dados_series = yf.download([\"USBC34.SA\"], start=\"2022-01-01\", end=\"2022-01-05\")\n",
        "new_data = dados_series.drop(['Open', 'High', 'Low', 'Adj Close', 'Volume'], axis=1)\n",
        "new_data\n",
        "new_data['Close']\n",
        "y=[]\n",
        "for a in new_data['Close']:\n",
        "  y.append(a)\n",
        "\n",
        "x = np.arange (1,len(y)+1,1)\n",
        "\n",
        "minimo = np.min(y)\n",
        "maximo = np.max(y)\n",
        "y = (y - minimo)/(maximo - minimo)\n",
        "\n",
        "# use the trained model to predict the new stock prices\n",
        "predicted_data = modelo.predict(new_data)\n",
        "\n",
        "predicted_data_10 = predicted_data * (maximo - minimo) + minimo\n",
        "print(predicted_data_10)"
      ],
      "metadata": {
        "colab": {
          "base_uri": "https://localhost:8080/"
        },
        "id": "RTAqcDXqLQc4",
        "outputId": "4fe0b430-5030-4604-a095-942dac5e45ea"
      },
      "execution_count": 177,
      "outputs": [
        {
          "output_type": "stream",
          "name": "stdout",
          "text": [
            "[*********************100%***********************]  1 of 1 completed\n",
            "1/1 [==============================] - 0s 60ms/step\n",
            "[[128.117  ]\n",
            " [128.09256]]\n"
          ]
        }
      ]
    },
    {
      "cell_type": "markdown",
      "source": [
        "### APLICANDO A MOCHILA"
      ],
      "metadata": {
        "id": "YtX-7fFcSilp"
      }
    },
    {
      "cell_type": "code",
      "source": [
        "P10 = predicted_data_10.ravel().tolist()\n",
        "P10 =P10[0] \n",
        "P10"
      ],
      "metadata": {
        "colab": {
          "base_uri": "https://localhost:8080/"
        },
        "id": "jpu_thlSQJRp",
        "outputId": "dfdf4a58-4911-4710-db35-3f9a7354865b"
      },
      "execution_count": 214,
      "outputs": [
        {
          "output_type": "execute_result",
          "data": {
            "text/plain": [
              "128.11700439453125"
            ]
          },
          "metadata": {},
          "execution_count": 214
        }
      ]
    },
    {
      "cell_type": "code",
      "source": [
        "P9 = predicted_data_9.ravel().tolist()\n",
        "P9 =P9[0] \n",
        "P9"
      ],
      "metadata": {
        "colab": {
          "base_uri": "https://localhost:8080/"
        },
        "id": "TXlOSAWcPzYC",
        "outputId": "b1fade2d-0b1f-4c8d-c3a7-5c0eba75f03d"
      },
      "execution_count": 212,
      "outputs": [
        {
          "output_type": "execute_result",
          "data": {
            "text/plain": [
              "111.89584350585938"
            ]
          },
          "metadata": {},
          "execution_count": 212
        }
      ]
    },
    {
      "cell_type": "code",
      "source": [
        "P8 = predicted_data_8.ravel().tolist()\n",
        "P8 =P8[0] \n",
        "P8"
      ],
      "metadata": {
        "colab": {
          "base_uri": "https://localhost:8080/"
        },
        "id": "vwaQ7JSzQvB0",
        "outputId": "5d53c102-ed7e-4625-b876-851b96ae708d"
      },
      "execution_count": 197,
      "outputs": [
        {
          "output_type": "execute_result",
          "data": {
            "text/plain": [
              "94.23323822021484"
            ]
          },
          "metadata": {},
          "execution_count": 197
        }
      ]
    },
    {
      "cell_type": "code",
      "source": [
        "P7 = predicted_data_7.ravel().tolist()\n",
        "P7 =P7[0] \n",
        "P7"
      ],
      "metadata": {
        "colab": {
          "base_uri": "https://localhost:8080/"
        },
        "id": "MQxlMLXhQvlh",
        "outputId": "0d6f15af-8db7-4028-9aad-0b64249852e5"
      },
      "execution_count": 198,
      "outputs": [
        {
          "output_type": "execute_result",
          "data": {
            "text/plain": [
              "109.7386703491211"
            ]
          },
          "metadata": {},
          "execution_count": 198
        }
      ]
    },
    {
      "cell_type": "code",
      "source": [
        "P6 = predicted_data_6.ravel().tolist()\n",
        "P6 =P6[0] \n",
        "P6"
      ],
      "metadata": {
        "colab": {
          "base_uri": "https://localhost:8080/"
        },
        "id": "22687YfuRX4l",
        "outputId": "43009743-23d8-403c-9a56-ca59829506c7"
      },
      "execution_count": 199,
      "outputs": [
        {
          "output_type": "execute_result",
          "data": {
            "text/plain": [
              "77.00894927978516"
            ]
          },
          "metadata": {},
          "execution_count": 199
        }
      ]
    },
    {
      "cell_type": "code",
      "source": [
        "P5 = predicted_data_5.ravel().tolist()\n",
        "P5 =P5[0] \n",
        "P5"
      ],
      "metadata": {
        "colab": {
          "base_uri": "https://localhost:8080/"
        },
        "id": "XBBteld6RcHF",
        "outputId": "162e1e1f-323c-4465-f0d2-c337642c881a"
      },
      "execution_count": 200,
      "outputs": [
        {
          "output_type": "execute_result",
          "data": {
            "text/plain": [
              "76.30152893066406"
            ]
          },
          "metadata": {},
          "execution_count": 200
        }
      ]
    },
    {
      "cell_type": "code",
      "source": [
        "P4 = predicted_data_4.ravel().tolist()\n",
        "P4 =P4[0] \n",
        "P4"
      ],
      "metadata": {
        "colab": {
          "base_uri": "https://localhost:8080/"
        },
        "id": "ZRdvPDfoRgMR",
        "outputId": "f5f867dc-a4fd-46f4-a5d3-385e89a96a64"
      },
      "execution_count": 201,
      "outputs": [
        {
          "output_type": "execute_result",
          "data": {
            "text/plain": [
              "67.71467590332031"
            ]
          },
          "metadata": {},
          "execution_count": 201
        }
      ]
    },
    {
      "cell_type": "code",
      "source": [
        "P3 = predicted_data_3.ravel().tolist()\n",
        "P3 =P3[0] \n",
        "P3"
      ],
      "metadata": {
        "colab": {
          "base_uri": "https://localhost:8080/"
        },
        "id": "38TA3dmzRjF_",
        "outputId": "565f6c69-f9b9-4ce2-e38e-d79f0faa9e6b"
      },
      "execution_count": 202,
      "outputs": [
        {
          "output_type": "execute_result",
          "data": {
            "text/plain": [
              "212.58221435546875"
            ]
          },
          "metadata": {},
          "execution_count": 202
        }
      ]
    },
    {
      "cell_type": "code",
      "source": [
        "P2 = predicted_data_2.ravel().tolist()\n",
        "P2 =P2[0] \n",
        "P2"
      ],
      "metadata": {
        "colab": {
          "base_uri": "https://localhost:8080/"
        },
        "id": "NGe0MNCgRl7k",
        "outputId": "9a874be8-9d2b-4100-bfd2-3c48a57af482"
      },
      "execution_count": 206,
      "outputs": [
        {
          "output_type": "execute_result",
          "data": {
            "text/plain": [
              "128.11700439453125"
            ]
          },
          "metadata": {},
          "execution_count": 206
        }
      ]
    },
    {
      "cell_type": "code",
      "source": [
        "P1 = minha_predicao.ravel().tolist()\n",
        "P1=P1[0]\n",
        "P1"
      ],
      "metadata": {
        "colab": {
          "base_uri": "https://localhost:8080/"
        },
        "id": "ImjYEaWAR4kv",
        "outputId": "278a6b93-bea8-4ddc-c4ca-3f7b5232b496"
      },
      "execution_count": 211,
      "outputs": [
        {
          "output_type": "execute_result",
          "data": {
            "text/plain": [
              "0.6530865430831909"
            ]
          },
          "metadata": {},
          "execution_count": 211
        }
      ]
    },
    {
      "cell_type": "code",
      "source": [
        "\n",
        "\n",
        "!pip install mip"
      ],
      "metadata": {
        "colab": {
          "base_uri": "https://localhost:8080/"
        },
        "id": "7_AsXmwmSyuS",
        "outputId": "1bbb4c51-a0fb-4e3d-9d5b-750b4e91ebaf"
      },
      "execution_count": 215,
      "outputs": [
        {
          "output_type": "stream",
          "name": "stdout",
          "text": [
            "Looking in indexes: https://pypi.org/simple, https://us-python.pkg.dev/colab-wheels/public/simple/\n",
            "Collecting mip\n",
            "  Downloading mip-1.15.0-py3-none-any.whl (15.3 MB)\n",
            "\u001b[2K     \u001b[90m━━━━━━━━━━━━━━━━━━━━━━━━━━━━━━━━━━━━━━━━\u001b[0m \u001b[32m15.3/15.3 MB\u001b[0m \u001b[31m67.6 MB/s\u001b[0m eta \u001b[36m0:00:00\u001b[0m\n",
            "\u001b[?25hRequirement already satisfied: cffi==1.15.* in /usr/local/lib/python3.9/dist-packages (from mip) (1.15.1)\n",
            "Requirement already satisfied: pycparser in /usr/local/lib/python3.9/dist-packages (from cffi==1.15.*->mip) (2.21)\n",
            "Installing collected packages: mip\n",
            "Successfully installed mip-1.15.0\n"
          ]
        }
      ]
    },
    {
      "cell_type": "code",
      "source": [
        "\n",
        "from mip import Model, maximize, xsum, CBC, BINARY, OptimizationStatus"
      ],
      "metadata": {
        "id": "M1DXhfXKS48-"
      },
      "execution_count": 216,
      "outputs": []
    },
    {
      "cell_type": "code",
      "source": [
        "coef_funcao_objetivo = [P1,P2,P3,P4,P5,P6,P7,P8,P9,P10]"
      ],
      "metadata": {
        "id": "KG_NHMlITJgK"
      },
      "execution_count": 217,
      "outputs": []
    },
    {
      "cell_type": "code",
      "source": [
        "coef_funcao_objetivo = [P1,P2,P3,P4,P5,P6,P7,P8,P9,P10]\n",
        "coef_restr = [1, 2, 3, 4, 5, 6,7,8,9,10]\n",
        "termo_independente = 3"
      ],
      "metadata": {
        "id": "UOMeAv00SROz"
      },
      "execution_count": 219,
      "outputs": []
    },
    {
      "cell_type": "code",
      "source": [
        "\n",
        "I = range(len(coef_funcao_objetivo))\n",
        "m = Model(\"knapsack\")"
      ],
      "metadata": {
        "id": "XFm8SdDdS3Fy"
      },
      "execution_count": 220,
      "outputs": []
    },
    {
      "cell_type": "code",
      "source": [
        "\n",
        "x = [m.add_var(var_type=BINARY) for i in I]"
      ],
      "metadata": {
        "id": "jPKKeh9XUB74"
      },
      "execution_count": 221,
      "outputs": []
    },
    {
      "cell_type": "code",
      "source": [
        "\n",
        "m.objective = maximize(xsum(coef_funcao_objetivo[i] * x[i] for i in I))\n",
        "     "
      ],
      "metadata": {
        "id": "8SAX616OUHZM"
      },
      "execution_count": 222,
      "outputs": []
    },
    {
      "cell_type": "code",
      "source": [
        "\n",
        "\n",
        "m += xsum(coef_restr[i] * x[i] for i in I) <= termo_independente\n",
        "print(f'O modelo tem {m.num_cols} variável(eis), {m.num_rows} restrição(ões) e {m.num_nz} zero(s)')"
      ],
      "metadata": {
        "colab": {
          "base_uri": "https://localhost:8080/"
        },
        "id": "XlWndYL1UIvy",
        "outputId": "63e7f415-3c1f-47d7-d5dd-105741ee2cb8"
      },
      "execution_count": 223,
      "outputs": [
        {
          "output_type": "stream",
          "name": "stdout",
          "text": [
            "O modelo tem 10 variável(eis), 1 restrição(ões) e 10 zero(s)\n"
          ]
        }
      ]
    },
    {
      "cell_type": "code",
      "source": [
        "\n",
        "\n",
        "status = m.optimize(max_seconds=2)"
      ],
      "metadata": {
        "id": "KfKj5NRqUJ-9"
      },
      "execution_count": 224,
      "outputs": []
    },
    {
      "cell_type": "code",
      "source": [
        "\n",
        "status == OptimizationStatus.OPTIMAL\n",
        "     "
      ],
      "metadata": {
        "colab": {
          "base_uri": "https://localhost:8080/"
        },
        "id": "43oiQKH5ULWl",
        "outputId": "788f275f-929d-4adb-ca61-a4a7d3cf52ee"
      },
      "execution_count": 225,
      "outputs": [
        {
          "output_type": "execute_result",
          "data": {
            "text/plain": [
              "True"
            ]
          },
          "metadata": {},
          "execution_count": 225
        }
      ]
    },
    {
      "cell_type": "code",
      "source": [
        "\n",
        "\n",
        "itens_selecionados = [\"x\"+str(i+1) for i in I if x[i].x >= 0.99]\n",
        "print(\"Itens selecionados: {}\".format(itens_selecionados))"
      ],
      "metadata": {
        "colab": {
          "base_uri": "https://localhost:8080/"
        },
        "id": "7o7ifg5XUMi2",
        "outputId": "6e804284-de6c-445d-b1e1-198a1c800c9d"
      },
      "execution_count": 226,
      "outputs": [
        {
          "output_type": "stream",
          "name": "stdout",
          "text": [
            "Itens selecionados: ['x3']\n"
          ]
        }
      ]
    },
    {
      "cell_type": "code",
      "source": [
        "P3"
      ],
      "metadata": {
        "colab": {
          "base_uri": "https://localhost:8080/"
        },
        "id": "aj_azbVsUN4G",
        "outputId": "f9ea4d3b-26d8-4c87-cb29-221ddf92d484"
      },
      "execution_count": 227,
      "outputs": [
        {
          "output_type": "execute_result",
          "data": {
            "text/plain": [
              "212.58221435546875"
            ]
          },
          "metadata": {},
          "execution_count": 227
        }
      ]
    },
    {
      "cell_type": "code",
      "source": [],
      "metadata": {
        "id": "FHUky-DmUglu"
      },
      "execution_count": null,
      "outputs": []
    }
  ]
}