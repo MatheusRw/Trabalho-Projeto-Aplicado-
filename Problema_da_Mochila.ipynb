{
  "nbformat": 4,
  "nbformat_minor": 0,
  "metadata": {
    "colab": {
      "provenance": []
    },
    "kernelspec": {
      "name": "python3",
      "display_name": "Python 3"
    },
    "language_info": {
      "name": "python"
    }
  },
  "cells": [
    {
      "cell_type": "code",
      "execution_count": null,
      "metadata": {
        "colab": {
          "base_uri": "https://localhost:8080/"
        },
        "id": "zqsOboJIGr42",
        "outputId": "417d821f-af34-4c81-b77b-62468f599e5b"
      },
      "outputs": [
        {
          "output_type": "stream",
          "name": "stdout",
          "text": [
            "Looking in indexes: https://pypi.org/simple, https://us-python.pkg.dev/colab-wheels/public/simple/\n",
            "Requirement already satisfied: mip in /usr/local/lib/python3.9/dist-packages (1.15.0)\n",
            "Requirement already satisfied: cffi==1.15.* in /usr/local/lib/python3.9/dist-packages (from mip) (1.15.1)\n",
            "Requirement already satisfied: pycparser in /usr/local/lib/python3.9/dist-packages (from cffi==1.15.*->mip) (2.21)\n"
          ]
        }
      ],
      "source": [
        "!pip install mip\n",
        "\n",
        "!pip install ortools"
      ]
    },
    {
      "cell_type": "code",
      "source": [
        "from mip import Model, maximize, xsum, CBC, BINARY, OptimizationStatus"
      ],
      "metadata": {
        "id": "DLSUi9CjHK2d"
      },
      "execution_count": null,
      "outputs": []
    },
    {
      "cell_type": "code",
      "source": [
        "coef_funcao_objetivo = [4, 6, 5, 3, 1]\n",
        "coef_restr = [5, 4, 3, 2, 1]\n",
        "termo_independente = 10 \n",
        "     "
      ],
      "metadata": {
        "id": "BReyagg1HN7Y"
      },
      "execution_count": null,
      "outputs": []
    },
    {
      "cell_type": "code",
      "source": [
        "I = range(len(coef_funcao_objetivo))\n",
        "m = Model(\"knapsack\")"
      ],
      "metadata": {
        "id": "Q9nF4YveHomv"
      },
      "execution_count": null,
      "outputs": []
    },
    {
      "cell_type": "code",
      "source": [
        "x = [m.add_var(var_type=BINARY) for i in I]"
      ],
      "metadata": {
        "id": "dP5U8nfHHpLh"
      },
      "execution_count": null,
      "outputs": []
    },
    {
      "cell_type": "code",
      "source": [
        "\n",
        "m.objective = maximize(xsum(coef_funcao_objetivo[i] * x[i] for i in I))"
      ],
      "metadata": {
        "id": "zewG6O4CHsWC"
      },
      "execution_count": null,
      "outputs": []
    },
    {
      "cell_type": "code",
      "source": [
        "m += xsum(coef_restr[i] * x[i] for i in I) <= termo_independente\n",
        "print(f'O modelo tem {m.num_cols} variável(eis), {m.num_rows} restrição(ões) e {m.num_nz} zero(s)')"
      ],
      "metadata": {
        "colab": {
          "base_uri": "https://localhost:8080/"
        },
        "id": "6qw4rrvrHs_L",
        "outputId": "59f299f5-136c-421a-b9eb-910f5e2f267e"
      },
      "execution_count": null,
      "outputs": [
        {
          "output_type": "stream",
          "name": "stdout",
          "text": [
            "O modelo tem 5 variável(eis), 1 restrição(ões) e 5 zero(s)\n"
          ]
        }
      ]
    },
    {
      "cell_type": "code",
      "source": [
        "\n",
        "status = m.optimize(max_seconds=2)"
      ],
      "metadata": {
        "id": "e9npE_LTHuja"
      },
      "execution_count": null,
      "outputs": []
    },
    {
      "cell_type": "code",
      "source": [
        "\n",
        "status == OptimizationStatus.OPTIMAL"
      ],
      "metadata": {
        "colab": {
          "base_uri": "https://localhost:8080/"
        },
        "id": "c8Lv6LKCHwFM",
        "outputId": "dc4a8ed7-097d-4326-ac23-2c09fb3d1c88"
      },
      "execution_count": null,
      "outputs": [
        {
          "output_type": "execute_result",
          "data": {
            "text/plain": [
              "True"
            ]
          },
          "metadata": {},
          "execution_count": 31
        }
      ]
    },
    {
      "cell_type": "code",
      "source": [
        "\n",
        "itens_selecionados = [\"x\"+str(i+1) for i in I if x[i].x >= 0.99]\n",
        "print(\"Itens selecionados: {}\".format(itens_selecionados))"
      ],
      "metadata": {
        "colab": {
          "base_uri": "https://localhost:8080/"
        },
        "id": "7r_rxgx3HxED",
        "outputId": "fddfff0c-f7be-4c47-e714-f31b9dad897e"
      },
      "execution_count": null,
      "outputs": [
        {
          "output_type": "stream",
          "name": "stdout",
          "text": [
            "Itens selecionados: ['x2', 'x3', 'x4', 'x5']\n"
          ]
        }
      ]
    },
    {
      "cell_type": "code",
      "source": [
        "\n",
        "from ortools.linear_solver import pywraplp"
      ],
      "metadata": {
        "id": "NnrYuaQjH0SU"
      },
      "execution_count": null,
      "outputs": []
    },
    {
      "cell_type": "code",
      "source": [
        "\n",
        "solver = pywraplp.Solver.CreateSolver('SCIP')"
      ],
      "metadata": {
        "id": "8TvKT_sJH3a7"
      },
      "execution_count": null,
      "outputs": []
    },
    {
      "cell_type": "code",
      "source": [
        "\n",
        "infinity = solver.infinity()\n",
        "# x e y são variáveis inteiras não-negativas.\n",
        "x = solver.IntVar(0.0, infinity, 'x')\n",
        "y = solver.IntVar(0.0, infinity, 'y')\n",
        "\n",
        "print('Número de variáveis =', solver.NumVariables())"
      ],
      "metadata": {
        "colab": {
          "base_uri": "https://localhost:8080/"
        },
        "id": "gxj2K0zMH4xq",
        "outputId": "56ea00d4-15e0-401d-faeb-c9c2c6bf674a"
      },
      "execution_count": null,
      "outputs": [
        {
          "output_type": "stream",
          "name": "stdout",
          "text": [
            "Número de variáveis = 2\n"
          ]
        }
      ]
    },
    {
      "cell_type": "code",
      "source": [
        "\n",
        "# x + 7 * y <= 17.5.\n",
        "solver.Add(x + 7 * y <= 17.5)\n",
        "\n",
        "# x <= 3.5.\n",
        "solver.Add(x <= 3.5)\n",
        "\n",
        "print('Número de restrições =', solver.NumConstraints())"
      ],
      "metadata": {
        "colab": {
          "base_uri": "https://localhost:8080/"
        },
        "id": "2XtcK5cNH5uZ",
        "outputId": "ee5cbcc9-f494-4712-cf2b-0f864e7d3cc3"
      },
      "execution_count": null,
      "outputs": [
        {
          "output_type": "stream",
          "name": "stdout",
          "text": [
            "Número de restrições = 2\n"
          ]
        }
      ]
    },
    {
      "cell_type": "code",
      "source": [
        "\n",
        "\n",
        "# Maximize x + 10 * y.\n",
        "solver.Maximize(x + 10 * y)"
      ],
      "metadata": {
        "id": "OAK5vn4AH6uW"
      },
      "execution_count": null,
      "outputs": []
    },
    {
      "cell_type": "code",
      "source": [
        "status = solver.Solve()\n"
      ],
      "metadata": {
        "id": "ma5bSOOOH73T"
      },
      "execution_count": null,
      "outputs": []
    },
    {
      "cell_type": "code",
      "source": [
        "\n",
        "if status == pywraplp.Solver.OPTIMAL:\n",
        "  print('Solução:')\n",
        "  print('Valor objetivo =', solver.Objective().Value())\n",
        "  print('x =', x.solution_value())\n",
        "  print('y =', y.solution_value())\n",
        "else:\n",
        "  print('O problema não tem solução ótima.')"
      ],
      "metadata": {
        "colab": {
          "base_uri": "https://localhost:8080/"
        },
        "id": "ugAtwkKrIe6f",
        "outputId": "e38aade1-0796-41e7-a349-fe578f701423"
      },
      "execution_count": null,
      "outputs": [
        {
          "output_type": "stream",
          "name": "stdout",
          "text": [
            "Solução:\n",
            "Valor objetivo = 23.0\n",
            "x = 3.0\n",
            "y = 2.0\n"
          ]
        }
      ]
    },
    {
      "cell_type": "code",
      "source": [
        "\n",
        "print('\\nInformações sobre o processamento:')\n",
        "print(f'Tempo de processamento em milisegundos foi de {solver.wall_time()}')\n",
        "print(f'Quantidade de Iterações para resolver o problema foi de {solver.iterations()}')\n",
        "print(f'Quantidade nós de branch-and-bound para resolver o problema foi de {solver.nodes()}')"
      ],
      "metadata": {
        "colab": {
          "base_uri": "https://localhost:8080/"
        },
        "id": "kPPG0i14IgJ4",
        "outputId": "051f81f2-ffee-485c-de7e-49a7bff9a9d0"
      },
      "execution_count": null,
      "outputs": [
        {
          "output_type": "stream",
          "name": "stdout",
          "text": [
            "\n",
            "Informações sobre o processamento:\n",
            "Tempo de processamento em milisegundos foi de 120\n",
            "Quantidade de Iterações para resolver o problema foi de 0\n",
            "Quantidade nós de branch-and-bound para resolver o problema foi de 1\n"
          ]
        }
      ]
    }
  ]
}